{
 "cells": [
  {
   "cell_type": "markdown",
   "id": "13320c43",
   "metadata": {},
   "source": [
    "# Credit Card Default Prediction"
   ]
  },
  {
   "cell_type": "markdown",
   "id": "6a101da9",
   "metadata": {},
   "source": [
    "From the documentation of the dataset, the below details describes the definition of the features."
   ]
  },
  {
   "cell_type": "markdown",
   "id": "3ae47a48",
   "metadata": {},
   "source": [
    "There are 25 variables:\n",
    "\n",
    "* ID: ID of each client\n",
    "\n",
    "* LIMIT_BAL: Amount of given credit in NT dollars (includes individual and family/supplementary credit\n",
    "* SEX: Gender (1=male, 2=female)\n",
    "* EDUCATION: (1=graduate school, 2=university, 3=high school, 4=others, 5=unknown, 6=unknown)\n",
    "* MARRIAGE: Marital status (1=married, 2=single, 3=others)\n",
    "* AGE: Age in years\n",
    "* PAY_0: Repayment status in September, 2005 (-1=pay duly, 1=payment delay for one month, 2=payment delay for two months, ... 8=payment delay for eight months, 9=payment delay for nine months and above)\n",
    "\n",
    "* PAY_2: Repayment status in August, 2005 (scale same as above)\n",
    "\n",
    "* PAY_3: Repayment status in July, 2005 (scale same as above)\n",
    "\n",
    "* PAY_4: Repayment status in June, 2005 (scale same as above)\n",
    "\n",
    "* PAY_5: Repayment status in May, 2005 (scale same as above)\n",
    "\n",
    "* PAY_6: Repayment status in April, 2005 (scale same as above)\n",
    "\n",
    "* BILL_AMT1: Amount of bill statement in September, 2005 (NT dollar)\n",
    "\n",
    "* BILL_AMT2: Amount of bill statement in August, 2005 (NT dollar)\n",
    "\n",
    "* BILL_AMT3: Amount of bill statement in July, 2005 (NT dollar)\n",
    "\n",
    "* BILL_AMT4: Amount of bill statement in June, 2005 (NT dollar)\n",
    "\n",
    "* BILL_AMT5: Amount of bill statement in May, 2005 (NT dollar)\n",
    "\n",
    "* BILL_AMT6: Amount of bill statement in April, 2005 (NT dollar)\n",
    "\n",
    "* PAY_AMT1: Amount of previous payment in September, 2005 (NT dollar)\n",
    "\n",
    "* PAY_AMT2: Amount of previous payment in August, 2005 (NT dollar)\n",
    "\n",
    "* PAY_AMT3: Amount of previous payment in July, 2005 (NT dollar)\n",
    "\n",
    "* PAY_AMT4: Amount of previous payment in June, 2005 (NT dollar)\n",
    "\n",
    "* PAY_AMT5: Amount of previous payment in May, 2005 (NT dollar)\n",
    "\n",
    "* PAY_AMT6: Amount of previous payment in April, 2005 (NT dollar)\n",
    "\n",
    "* default.payment.next.month: Default payment (1=yes, 0=no)"
   ]
  },
  {
   "cell_type": "markdown",
   "id": "496dd0a1",
   "metadata": {},
   "source": [
    "### Importing libraries"
   ]
  },
  {
   "cell_type": "code",
   "execution_count": 1,
   "id": "99d1de4c",
   "metadata": {},
   "outputs": [],
   "source": [
    "import numpy as np\n",
    "import pandas as pd\n",
    "import matplotlib.pyplot as plt\n",
    "%matplotlib inline\n",
    "import seaborn as sns\n",
    "import warnings\n",
    "from sklearn.model_selection import train_test_split\n",
    "from sklearn.preprocessing import OneHotEncoder,LabelEncoder,StandardScaler\n",
    "from sklearn.compose import ColumnTransformer\n",
    "from imblearn.over_sampling import SMOTE\n",
    "from xgboost import XGBClassifier\n",
    "from sklearn.metrics import accuracy_score, f1_score,classification_report,roc_auc_score,confusion_matrix,precision_score,recall_score\n",
    "from sklearn.linear_model import LogisticRegression\n",
    "from sklearn.tree import DecisionTreeClassifier\n",
    "from sklearn.ensemble import RandomForestClassifier\n",
    "from sklearn.svm import SVC\n",
    "from sklearn.neighbors import KNeighborsClassifier\n",
    "from sklearn.naive_bayes import GaussianNB\n",
    "from sklearn.ensemble import GradientBoostingClassifier\n",
    "from sklearn.base import BaseEstimator\n",
    "from sklearn.cluster import KMeans\n",
    "from sklearn.model_selection import GridSearchCV\n",
    "from sklearn.pipeline import Pipeline\n",
    "from sklearn.model_selection import cross_val_score\n",
    "warnings.filterwarnings(\"ignore\")\n",
    "\n",
    "##Displaying all the columns of the dataframes\n",
    "pd.pandas.set_option('display.max_columns',None)"
   ]
  },
  {
   "cell_type": "code",
   "execution_count": 2,
   "id": "5475133d",
   "metadata": {},
   "outputs": [],
   "source": [
    "#Loading the dataset\n",
    "dataset=pd.read_csv(\"K:\\\\DATA SCIENCE Reference\\\\Projects\\\\Credit-Card-Default-Prediction\\\\Data\\\\UCI_Credit_Card.csv\")"
   ]
  },
  {
   "cell_type": "code",
   "execution_count": 3,
   "id": "8fdc8c9a",
   "metadata": {},
   "outputs": [
    {
     "data": {
      "text/html": [
       "<div>\n",
       "<style scoped>\n",
       "    .dataframe tbody tr th:only-of-type {\n",
       "        vertical-align: middle;\n",
       "    }\n",
       "\n",
       "    .dataframe tbody tr th {\n",
       "        vertical-align: top;\n",
       "    }\n",
       "\n",
       "    .dataframe thead th {\n",
       "        text-align: right;\n",
       "    }\n",
       "</style>\n",
       "<table border=\"1\" class=\"dataframe\">\n",
       "  <thead>\n",
       "    <tr style=\"text-align: right;\">\n",
       "      <th></th>\n",
       "      <th>ID</th>\n",
       "      <th>LIMIT_BAL</th>\n",
       "      <th>SEX</th>\n",
       "      <th>EDUCATION</th>\n",
       "      <th>MARRIAGE</th>\n",
       "      <th>AGE</th>\n",
       "      <th>PAY_0</th>\n",
       "      <th>PAY_2</th>\n",
       "      <th>PAY_3</th>\n",
       "      <th>PAY_4</th>\n",
       "      <th>PAY_5</th>\n",
       "      <th>PAY_6</th>\n",
       "      <th>BILL_AMT1</th>\n",
       "      <th>BILL_AMT2</th>\n",
       "      <th>BILL_AMT3</th>\n",
       "      <th>BILL_AMT4</th>\n",
       "      <th>BILL_AMT5</th>\n",
       "      <th>BILL_AMT6</th>\n",
       "      <th>PAY_AMT1</th>\n",
       "      <th>PAY_AMT2</th>\n",
       "      <th>PAY_AMT3</th>\n",
       "      <th>PAY_AMT4</th>\n",
       "      <th>PAY_AMT5</th>\n",
       "      <th>PAY_AMT6</th>\n",
       "      <th>default.payment.next.month</th>\n",
       "    </tr>\n",
       "  </thead>\n",
       "  <tbody>\n",
       "    <tr>\n",
       "      <th>0</th>\n",
       "      <td>1</td>\n",
       "      <td>20000.0</td>\n",
       "      <td>2</td>\n",
       "      <td>2</td>\n",
       "      <td>1</td>\n",
       "      <td>24</td>\n",
       "      <td>2</td>\n",
       "      <td>2</td>\n",
       "      <td>-1</td>\n",
       "      <td>-1</td>\n",
       "      <td>-2</td>\n",
       "      <td>-2</td>\n",
       "      <td>3913.0</td>\n",
       "      <td>3102.0</td>\n",
       "      <td>689.0</td>\n",
       "      <td>0.0</td>\n",
       "      <td>0.0</td>\n",
       "      <td>0.0</td>\n",
       "      <td>0.0</td>\n",
       "      <td>689.0</td>\n",
       "      <td>0.0</td>\n",
       "      <td>0.0</td>\n",
       "      <td>0.0</td>\n",
       "      <td>0.0</td>\n",
       "      <td>1</td>\n",
       "    </tr>\n",
       "    <tr>\n",
       "      <th>1</th>\n",
       "      <td>2</td>\n",
       "      <td>120000.0</td>\n",
       "      <td>2</td>\n",
       "      <td>2</td>\n",
       "      <td>2</td>\n",
       "      <td>26</td>\n",
       "      <td>-1</td>\n",
       "      <td>2</td>\n",
       "      <td>0</td>\n",
       "      <td>0</td>\n",
       "      <td>0</td>\n",
       "      <td>2</td>\n",
       "      <td>2682.0</td>\n",
       "      <td>1725.0</td>\n",
       "      <td>2682.0</td>\n",
       "      <td>3272.0</td>\n",
       "      <td>3455.0</td>\n",
       "      <td>3261.0</td>\n",
       "      <td>0.0</td>\n",
       "      <td>1000.0</td>\n",
       "      <td>1000.0</td>\n",
       "      <td>1000.0</td>\n",
       "      <td>0.0</td>\n",
       "      <td>2000.0</td>\n",
       "      <td>1</td>\n",
       "    </tr>\n",
       "    <tr>\n",
       "      <th>2</th>\n",
       "      <td>3</td>\n",
       "      <td>90000.0</td>\n",
       "      <td>2</td>\n",
       "      <td>2</td>\n",
       "      <td>2</td>\n",
       "      <td>34</td>\n",
       "      <td>0</td>\n",
       "      <td>0</td>\n",
       "      <td>0</td>\n",
       "      <td>0</td>\n",
       "      <td>0</td>\n",
       "      <td>0</td>\n",
       "      <td>29239.0</td>\n",
       "      <td>14027.0</td>\n",
       "      <td>13559.0</td>\n",
       "      <td>14331.0</td>\n",
       "      <td>14948.0</td>\n",
       "      <td>15549.0</td>\n",
       "      <td>1518.0</td>\n",
       "      <td>1500.0</td>\n",
       "      <td>1000.0</td>\n",
       "      <td>1000.0</td>\n",
       "      <td>1000.0</td>\n",
       "      <td>5000.0</td>\n",
       "      <td>0</td>\n",
       "    </tr>\n",
       "    <tr>\n",
       "      <th>3</th>\n",
       "      <td>4</td>\n",
       "      <td>50000.0</td>\n",
       "      <td>2</td>\n",
       "      <td>2</td>\n",
       "      <td>1</td>\n",
       "      <td>37</td>\n",
       "      <td>0</td>\n",
       "      <td>0</td>\n",
       "      <td>0</td>\n",
       "      <td>0</td>\n",
       "      <td>0</td>\n",
       "      <td>0</td>\n",
       "      <td>46990.0</td>\n",
       "      <td>48233.0</td>\n",
       "      <td>49291.0</td>\n",
       "      <td>28314.0</td>\n",
       "      <td>28959.0</td>\n",
       "      <td>29547.0</td>\n",
       "      <td>2000.0</td>\n",
       "      <td>2019.0</td>\n",
       "      <td>1200.0</td>\n",
       "      <td>1100.0</td>\n",
       "      <td>1069.0</td>\n",
       "      <td>1000.0</td>\n",
       "      <td>0</td>\n",
       "    </tr>\n",
       "    <tr>\n",
       "      <th>4</th>\n",
       "      <td>5</td>\n",
       "      <td>50000.0</td>\n",
       "      <td>1</td>\n",
       "      <td>2</td>\n",
       "      <td>1</td>\n",
       "      <td>57</td>\n",
       "      <td>-1</td>\n",
       "      <td>0</td>\n",
       "      <td>-1</td>\n",
       "      <td>0</td>\n",
       "      <td>0</td>\n",
       "      <td>0</td>\n",
       "      <td>8617.0</td>\n",
       "      <td>5670.0</td>\n",
       "      <td>35835.0</td>\n",
       "      <td>20940.0</td>\n",
       "      <td>19146.0</td>\n",
       "      <td>19131.0</td>\n",
       "      <td>2000.0</td>\n",
       "      <td>36681.0</td>\n",
       "      <td>10000.0</td>\n",
       "      <td>9000.0</td>\n",
       "      <td>689.0</td>\n",
       "      <td>679.0</td>\n",
       "      <td>0</td>\n",
       "    </tr>\n",
       "    <tr>\n",
       "      <th>...</th>\n",
       "      <td>...</td>\n",
       "      <td>...</td>\n",
       "      <td>...</td>\n",
       "      <td>...</td>\n",
       "      <td>...</td>\n",
       "      <td>...</td>\n",
       "      <td>...</td>\n",
       "      <td>...</td>\n",
       "      <td>...</td>\n",
       "      <td>...</td>\n",
       "      <td>...</td>\n",
       "      <td>...</td>\n",
       "      <td>...</td>\n",
       "      <td>...</td>\n",
       "      <td>...</td>\n",
       "      <td>...</td>\n",
       "      <td>...</td>\n",
       "      <td>...</td>\n",
       "      <td>...</td>\n",
       "      <td>...</td>\n",
       "      <td>...</td>\n",
       "      <td>...</td>\n",
       "      <td>...</td>\n",
       "      <td>...</td>\n",
       "      <td>...</td>\n",
       "    </tr>\n",
       "    <tr>\n",
       "      <th>29995</th>\n",
       "      <td>29996</td>\n",
       "      <td>220000.0</td>\n",
       "      <td>1</td>\n",
       "      <td>3</td>\n",
       "      <td>1</td>\n",
       "      <td>39</td>\n",
       "      <td>0</td>\n",
       "      <td>0</td>\n",
       "      <td>0</td>\n",
       "      <td>0</td>\n",
       "      <td>0</td>\n",
       "      <td>0</td>\n",
       "      <td>188948.0</td>\n",
       "      <td>192815.0</td>\n",
       "      <td>208365.0</td>\n",
       "      <td>88004.0</td>\n",
       "      <td>31237.0</td>\n",
       "      <td>15980.0</td>\n",
       "      <td>8500.0</td>\n",
       "      <td>20000.0</td>\n",
       "      <td>5003.0</td>\n",
       "      <td>3047.0</td>\n",
       "      <td>5000.0</td>\n",
       "      <td>1000.0</td>\n",
       "      <td>0</td>\n",
       "    </tr>\n",
       "    <tr>\n",
       "      <th>29996</th>\n",
       "      <td>29997</td>\n",
       "      <td>150000.0</td>\n",
       "      <td>1</td>\n",
       "      <td>3</td>\n",
       "      <td>2</td>\n",
       "      <td>43</td>\n",
       "      <td>-1</td>\n",
       "      <td>-1</td>\n",
       "      <td>-1</td>\n",
       "      <td>-1</td>\n",
       "      <td>0</td>\n",
       "      <td>0</td>\n",
       "      <td>1683.0</td>\n",
       "      <td>1828.0</td>\n",
       "      <td>3502.0</td>\n",
       "      <td>8979.0</td>\n",
       "      <td>5190.0</td>\n",
       "      <td>0.0</td>\n",
       "      <td>1837.0</td>\n",
       "      <td>3526.0</td>\n",
       "      <td>8998.0</td>\n",
       "      <td>129.0</td>\n",
       "      <td>0.0</td>\n",
       "      <td>0.0</td>\n",
       "      <td>0</td>\n",
       "    </tr>\n",
       "    <tr>\n",
       "      <th>29997</th>\n",
       "      <td>29998</td>\n",
       "      <td>30000.0</td>\n",
       "      <td>1</td>\n",
       "      <td>2</td>\n",
       "      <td>2</td>\n",
       "      <td>37</td>\n",
       "      <td>4</td>\n",
       "      <td>3</td>\n",
       "      <td>2</td>\n",
       "      <td>-1</td>\n",
       "      <td>0</td>\n",
       "      <td>0</td>\n",
       "      <td>3565.0</td>\n",
       "      <td>3356.0</td>\n",
       "      <td>2758.0</td>\n",
       "      <td>20878.0</td>\n",
       "      <td>20582.0</td>\n",
       "      <td>19357.0</td>\n",
       "      <td>0.0</td>\n",
       "      <td>0.0</td>\n",
       "      <td>22000.0</td>\n",
       "      <td>4200.0</td>\n",
       "      <td>2000.0</td>\n",
       "      <td>3100.0</td>\n",
       "      <td>1</td>\n",
       "    </tr>\n",
       "    <tr>\n",
       "      <th>29998</th>\n",
       "      <td>29999</td>\n",
       "      <td>80000.0</td>\n",
       "      <td>1</td>\n",
       "      <td>3</td>\n",
       "      <td>1</td>\n",
       "      <td>41</td>\n",
       "      <td>1</td>\n",
       "      <td>-1</td>\n",
       "      <td>0</td>\n",
       "      <td>0</td>\n",
       "      <td>0</td>\n",
       "      <td>-1</td>\n",
       "      <td>-1645.0</td>\n",
       "      <td>78379.0</td>\n",
       "      <td>76304.0</td>\n",
       "      <td>52774.0</td>\n",
       "      <td>11855.0</td>\n",
       "      <td>48944.0</td>\n",
       "      <td>85900.0</td>\n",
       "      <td>3409.0</td>\n",
       "      <td>1178.0</td>\n",
       "      <td>1926.0</td>\n",
       "      <td>52964.0</td>\n",
       "      <td>1804.0</td>\n",
       "      <td>1</td>\n",
       "    </tr>\n",
       "    <tr>\n",
       "      <th>29999</th>\n",
       "      <td>30000</td>\n",
       "      <td>50000.0</td>\n",
       "      <td>1</td>\n",
       "      <td>2</td>\n",
       "      <td>1</td>\n",
       "      <td>46</td>\n",
       "      <td>0</td>\n",
       "      <td>0</td>\n",
       "      <td>0</td>\n",
       "      <td>0</td>\n",
       "      <td>0</td>\n",
       "      <td>0</td>\n",
       "      <td>47929.0</td>\n",
       "      <td>48905.0</td>\n",
       "      <td>49764.0</td>\n",
       "      <td>36535.0</td>\n",
       "      <td>32428.0</td>\n",
       "      <td>15313.0</td>\n",
       "      <td>2078.0</td>\n",
       "      <td>1800.0</td>\n",
       "      <td>1430.0</td>\n",
       "      <td>1000.0</td>\n",
       "      <td>1000.0</td>\n",
       "      <td>1000.0</td>\n",
       "      <td>1</td>\n",
       "    </tr>\n",
       "  </tbody>\n",
       "</table>\n",
       "<p>30000 rows × 25 columns</p>\n",
       "</div>"
      ],
      "text/plain": [
       "          ID  LIMIT_BAL  SEX  EDUCATION  MARRIAGE  AGE  PAY_0  PAY_2  PAY_3  \\\n",
       "0          1    20000.0    2          2         1   24      2      2     -1   \n",
       "1          2   120000.0    2          2         2   26     -1      2      0   \n",
       "2          3    90000.0    2          2         2   34      0      0      0   \n",
       "3          4    50000.0    2          2         1   37      0      0      0   \n",
       "4          5    50000.0    1          2         1   57     -1      0     -1   \n",
       "...      ...        ...  ...        ...       ...  ...    ...    ...    ...   \n",
       "29995  29996   220000.0    1          3         1   39      0      0      0   \n",
       "29996  29997   150000.0    1          3         2   43     -1     -1     -1   \n",
       "29997  29998    30000.0    1          2         2   37      4      3      2   \n",
       "29998  29999    80000.0    1          3         1   41      1     -1      0   \n",
       "29999  30000    50000.0    1          2         1   46      0      0      0   \n",
       "\n",
       "       PAY_4  PAY_5  PAY_6  BILL_AMT1  BILL_AMT2  BILL_AMT3  BILL_AMT4  \\\n",
       "0         -1     -2     -2     3913.0     3102.0      689.0        0.0   \n",
       "1          0      0      2     2682.0     1725.0     2682.0     3272.0   \n",
       "2          0      0      0    29239.0    14027.0    13559.0    14331.0   \n",
       "3          0      0      0    46990.0    48233.0    49291.0    28314.0   \n",
       "4          0      0      0     8617.0     5670.0    35835.0    20940.0   \n",
       "...      ...    ...    ...        ...        ...        ...        ...   \n",
       "29995      0      0      0   188948.0   192815.0   208365.0    88004.0   \n",
       "29996     -1      0      0     1683.0     1828.0     3502.0     8979.0   \n",
       "29997     -1      0      0     3565.0     3356.0     2758.0    20878.0   \n",
       "29998      0      0     -1    -1645.0    78379.0    76304.0    52774.0   \n",
       "29999      0      0      0    47929.0    48905.0    49764.0    36535.0   \n",
       "\n",
       "       BILL_AMT5  BILL_AMT6  PAY_AMT1  PAY_AMT2  PAY_AMT3  PAY_AMT4  PAY_AMT5  \\\n",
       "0            0.0        0.0       0.0     689.0       0.0       0.0       0.0   \n",
       "1         3455.0     3261.0       0.0    1000.0    1000.0    1000.0       0.0   \n",
       "2        14948.0    15549.0    1518.0    1500.0    1000.0    1000.0    1000.0   \n",
       "3        28959.0    29547.0    2000.0    2019.0    1200.0    1100.0    1069.0   \n",
       "4        19146.0    19131.0    2000.0   36681.0   10000.0    9000.0     689.0   \n",
       "...          ...        ...       ...       ...       ...       ...       ...   \n",
       "29995    31237.0    15980.0    8500.0   20000.0    5003.0    3047.0    5000.0   \n",
       "29996     5190.0        0.0    1837.0    3526.0    8998.0     129.0       0.0   \n",
       "29997    20582.0    19357.0       0.0       0.0   22000.0    4200.0    2000.0   \n",
       "29998    11855.0    48944.0   85900.0    3409.0    1178.0    1926.0   52964.0   \n",
       "29999    32428.0    15313.0    2078.0    1800.0    1430.0    1000.0    1000.0   \n",
       "\n",
       "       PAY_AMT6  default.payment.next.month  \n",
       "0           0.0                           1  \n",
       "1        2000.0                           1  \n",
       "2        5000.0                           0  \n",
       "3        1000.0                           0  \n",
       "4         679.0                           0  \n",
       "...         ...                         ...  \n",
       "29995    1000.0                           0  \n",
       "29996       0.0                           0  \n",
       "29997    3100.0                           1  \n",
       "29998    1804.0                           1  \n",
       "29999    1000.0                           1  \n",
       "\n",
       "[30000 rows x 25 columns]"
      ]
     },
     "execution_count": 3,
     "metadata": {},
     "output_type": "execute_result"
    }
   ],
   "source": [
    "dataset"
   ]
  },
  {
   "cell_type": "code",
   "execution_count": 4,
   "id": "db486ba8",
   "metadata": {},
   "outputs": [
    {
     "data": {
      "text/plain": [
       "(30000, 25)"
      ]
     },
     "execution_count": 4,
     "metadata": {},
     "output_type": "execute_result"
    }
   ],
   "source": [
    "dataset.shape"
   ]
  },
  {
   "cell_type": "code",
   "execution_count": 5,
   "id": "b5b53879",
   "metadata": {},
   "outputs": [
    {
     "name": "stdout",
     "output_type": "stream",
     "text": [
      "<class 'pandas.core.frame.DataFrame'>\n",
      "RangeIndex: 30000 entries, 0 to 29999\n",
      "Data columns (total 25 columns):\n",
      " #   Column                      Non-Null Count  Dtype  \n",
      "---  ------                      --------------  -----  \n",
      " 0   ID                          30000 non-null  int64  \n",
      " 1   LIMIT_BAL                   30000 non-null  float64\n",
      " 2   SEX                         30000 non-null  int64  \n",
      " 3   EDUCATION                   30000 non-null  int64  \n",
      " 4   MARRIAGE                    30000 non-null  int64  \n",
      " 5   AGE                         30000 non-null  int64  \n",
      " 6   PAY_0                       30000 non-null  int64  \n",
      " 7   PAY_2                       30000 non-null  int64  \n",
      " 8   PAY_3                       30000 non-null  int64  \n",
      " 9   PAY_4                       30000 non-null  int64  \n",
      " 10  PAY_5                       30000 non-null  int64  \n",
      " 11  PAY_6                       30000 non-null  int64  \n",
      " 12  BILL_AMT1                   30000 non-null  float64\n",
      " 13  BILL_AMT2                   30000 non-null  float64\n",
      " 14  BILL_AMT3                   30000 non-null  float64\n",
      " 15  BILL_AMT4                   30000 non-null  float64\n",
      " 16  BILL_AMT5                   30000 non-null  float64\n",
      " 17  BILL_AMT6                   30000 non-null  float64\n",
      " 18  PAY_AMT1                    30000 non-null  float64\n",
      " 19  PAY_AMT2                    30000 non-null  float64\n",
      " 20  PAY_AMT3                    30000 non-null  float64\n",
      " 21  PAY_AMT4                    30000 non-null  float64\n",
      " 22  PAY_AMT5                    30000 non-null  float64\n",
      " 23  PAY_AMT6                    30000 non-null  float64\n",
      " 24  default.payment.next.month  30000 non-null  int64  \n",
      "dtypes: float64(13), int64(12)\n",
      "memory usage: 5.7 MB\n"
     ]
    }
   ],
   "source": [
    "dataset.info()"
   ]
  },
  {
   "cell_type": "code",
   "execution_count": 6,
   "id": "2e19836f",
   "metadata": {},
   "outputs": [
    {
     "data": {
      "text/plain": [
       "Index(['ID', 'LIMIT_BAL', 'SEX', 'EDUCATION', 'MARRIAGE', 'AGE', 'PAY_0',\n",
       "       'PAY_2', 'PAY_3', 'PAY_4', 'PAY_5', 'PAY_6', 'BILL_AMT1', 'BILL_AMT2',\n",
       "       'BILL_AMT3', 'BILL_AMT4', 'BILL_AMT5', 'BILL_AMT6', 'PAY_AMT1',\n",
       "       'PAY_AMT2', 'PAY_AMT3', 'PAY_AMT4', 'PAY_AMT5', 'PAY_AMT6',\n",
       "       'default.payment.next.month'],\n",
       "      dtype='object')"
      ]
     },
     "execution_count": 6,
     "metadata": {},
     "output_type": "execute_result"
    }
   ],
   "source": [
    "dataset.columns"
   ]
  },
  {
   "cell_type": "code",
   "execution_count": 7,
   "id": "b70258ef",
   "metadata": {},
   "outputs": [
    {
     "data": {
      "text/plain": [
       "ID                            0\n",
       "LIMIT_BAL                     0\n",
       "SEX                           0\n",
       "EDUCATION                     0\n",
       "MARRIAGE                      0\n",
       "AGE                           0\n",
       "PAY_0                         0\n",
       "PAY_2                         0\n",
       "PAY_3                         0\n",
       "PAY_4                         0\n",
       "PAY_5                         0\n",
       "PAY_6                         0\n",
       "BILL_AMT1                     0\n",
       "BILL_AMT2                     0\n",
       "BILL_AMT3                     0\n",
       "BILL_AMT4                     0\n",
       "BILL_AMT5                     0\n",
       "BILL_AMT6                     0\n",
       "PAY_AMT1                      0\n",
       "PAY_AMT2                      0\n",
       "PAY_AMT3                      0\n",
       "PAY_AMT4                      0\n",
       "PAY_AMT5                      0\n",
       "PAY_AMT6                      0\n",
       "default.payment.next.month    0\n",
       "dtype: int64"
      ]
     },
     "execution_count": 7,
     "metadata": {},
     "output_type": "execute_result"
    }
   ],
   "source": [
    "#Checking for null values\n",
    "dataset.isnull().sum()"
   ]
  },
  {
   "cell_type": "markdown",
   "id": "30477fdf",
   "metadata": {},
   "source": [
    "--> So, there are no null values in the dataset."
   ]
  },
  {
   "cell_type": "markdown",
   "id": "1bab1e6a",
   "metadata": {},
   "source": [
    "#### Renaming the PAY_0 with PAY_1 and Output feature(default.payment.next.month) with Default_Prediction"
   ]
  },
  {
   "cell_type": "code",
   "execution_count": 8,
   "id": "d94b1f2b",
   "metadata": {},
   "outputs": [],
   "source": [
    "dataset.rename(columns={'PAY_0':'PAY_1'},inplace=True)\n",
    "\n",
    "\n",
    "dataset.rename(columns={'default.payment.next.month':'Default_Prediction'},inplace=True)"
   ]
  },
  {
   "cell_type": "code",
   "execution_count": 9,
   "id": "3f82af3a",
   "metadata": {},
   "outputs": [
    {
     "data": {
      "text/html": [
       "<div>\n",
       "<style scoped>\n",
       "    .dataframe tbody tr th:only-of-type {\n",
       "        vertical-align: middle;\n",
       "    }\n",
       "\n",
       "    .dataframe tbody tr th {\n",
       "        vertical-align: top;\n",
       "    }\n",
       "\n",
       "    .dataframe thead th {\n",
       "        text-align: right;\n",
       "    }\n",
       "</style>\n",
       "<table border=\"1\" class=\"dataframe\">\n",
       "  <thead>\n",
       "    <tr style=\"text-align: right;\">\n",
       "      <th></th>\n",
       "      <th>ID</th>\n",
       "      <th>LIMIT_BAL</th>\n",
       "      <th>SEX</th>\n",
       "      <th>EDUCATION</th>\n",
       "      <th>MARRIAGE</th>\n",
       "      <th>AGE</th>\n",
       "      <th>PAY_1</th>\n",
       "      <th>PAY_2</th>\n",
       "      <th>PAY_3</th>\n",
       "      <th>PAY_4</th>\n",
       "      <th>PAY_5</th>\n",
       "      <th>PAY_6</th>\n",
       "      <th>BILL_AMT1</th>\n",
       "      <th>BILL_AMT2</th>\n",
       "      <th>BILL_AMT3</th>\n",
       "      <th>BILL_AMT4</th>\n",
       "      <th>BILL_AMT5</th>\n",
       "      <th>BILL_AMT6</th>\n",
       "      <th>PAY_AMT1</th>\n",
       "      <th>PAY_AMT2</th>\n",
       "      <th>PAY_AMT3</th>\n",
       "      <th>PAY_AMT4</th>\n",
       "      <th>PAY_AMT5</th>\n",
       "      <th>PAY_AMT6</th>\n",
       "      <th>Default_Prediction</th>\n",
       "    </tr>\n",
       "  </thead>\n",
       "  <tbody>\n",
       "    <tr>\n",
       "      <th>0</th>\n",
       "      <td>1</td>\n",
       "      <td>20000.0</td>\n",
       "      <td>2</td>\n",
       "      <td>2</td>\n",
       "      <td>1</td>\n",
       "      <td>24</td>\n",
       "      <td>2</td>\n",
       "      <td>2</td>\n",
       "      <td>-1</td>\n",
       "      <td>-1</td>\n",
       "      <td>-2</td>\n",
       "      <td>-2</td>\n",
       "      <td>3913.0</td>\n",
       "      <td>3102.0</td>\n",
       "      <td>689.0</td>\n",
       "      <td>0.0</td>\n",
       "      <td>0.0</td>\n",
       "      <td>0.0</td>\n",
       "      <td>0.0</td>\n",
       "      <td>689.0</td>\n",
       "      <td>0.0</td>\n",
       "      <td>0.0</td>\n",
       "      <td>0.0</td>\n",
       "      <td>0.0</td>\n",
       "      <td>1</td>\n",
       "    </tr>\n",
       "    <tr>\n",
       "      <th>1</th>\n",
       "      <td>2</td>\n",
       "      <td>120000.0</td>\n",
       "      <td>2</td>\n",
       "      <td>2</td>\n",
       "      <td>2</td>\n",
       "      <td>26</td>\n",
       "      <td>-1</td>\n",
       "      <td>2</td>\n",
       "      <td>0</td>\n",
       "      <td>0</td>\n",
       "      <td>0</td>\n",
       "      <td>2</td>\n",
       "      <td>2682.0</td>\n",
       "      <td>1725.0</td>\n",
       "      <td>2682.0</td>\n",
       "      <td>3272.0</td>\n",
       "      <td>3455.0</td>\n",
       "      <td>3261.0</td>\n",
       "      <td>0.0</td>\n",
       "      <td>1000.0</td>\n",
       "      <td>1000.0</td>\n",
       "      <td>1000.0</td>\n",
       "      <td>0.0</td>\n",
       "      <td>2000.0</td>\n",
       "      <td>1</td>\n",
       "    </tr>\n",
       "    <tr>\n",
       "      <th>2</th>\n",
       "      <td>3</td>\n",
       "      <td>90000.0</td>\n",
       "      <td>2</td>\n",
       "      <td>2</td>\n",
       "      <td>2</td>\n",
       "      <td>34</td>\n",
       "      <td>0</td>\n",
       "      <td>0</td>\n",
       "      <td>0</td>\n",
       "      <td>0</td>\n",
       "      <td>0</td>\n",
       "      <td>0</td>\n",
       "      <td>29239.0</td>\n",
       "      <td>14027.0</td>\n",
       "      <td>13559.0</td>\n",
       "      <td>14331.0</td>\n",
       "      <td>14948.0</td>\n",
       "      <td>15549.0</td>\n",
       "      <td>1518.0</td>\n",
       "      <td>1500.0</td>\n",
       "      <td>1000.0</td>\n",
       "      <td>1000.0</td>\n",
       "      <td>1000.0</td>\n",
       "      <td>5000.0</td>\n",
       "      <td>0</td>\n",
       "    </tr>\n",
       "    <tr>\n",
       "      <th>3</th>\n",
       "      <td>4</td>\n",
       "      <td>50000.0</td>\n",
       "      <td>2</td>\n",
       "      <td>2</td>\n",
       "      <td>1</td>\n",
       "      <td>37</td>\n",
       "      <td>0</td>\n",
       "      <td>0</td>\n",
       "      <td>0</td>\n",
       "      <td>0</td>\n",
       "      <td>0</td>\n",
       "      <td>0</td>\n",
       "      <td>46990.0</td>\n",
       "      <td>48233.0</td>\n",
       "      <td>49291.0</td>\n",
       "      <td>28314.0</td>\n",
       "      <td>28959.0</td>\n",
       "      <td>29547.0</td>\n",
       "      <td>2000.0</td>\n",
       "      <td>2019.0</td>\n",
       "      <td>1200.0</td>\n",
       "      <td>1100.0</td>\n",
       "      <td>1069.0</td>\n",
       "      <td>1000.0</td>\n",
       "      <td>0</td>\n",
       "    </tr>\n",
       "    <tr>\n",
       "      <th>4</th>\n",
       "      <td>5</td>\n",
       "      <td>50000.0</td>\n",
       "      <td>1</td>\n",
       "      <td>2</td>\n",
       "      <td>1</td>\n",
       "      <td>57</td>\n",
       "      <td>-1</td>\n",
       "      <td>0</td>\n",
       "      <td>-1</td>\n",
       "      <td>0</td>\n",
       "      <td>0</td>\n",
       "      <td>0</td>\n",
       "      <td>8617.0</td>\n",
       "      <td>5670.0</td>\n",
       "      <td>35835.0</td>\n",
       "      <td>20940.0</td>\n",
       "      <td>19146.0</td>\n",
       "      <td>19131.0</td>\n",
       "      <td>2000.0</td>\n",
       "      <td>36681.0</td>\n",
       "      <td>10000.0</td>\n",
       "      <td>9000.0</td>\n",
       "      <td>689.0</td>\n",
       "      <td>679.0</td>\n",
       "      <td>0</td>\n",
       "    </tr>\n",
       "  </tbody>\n",
       "</table>\n",
       "</div>"
      ],
      "text/plain": [
       "   ID  LIMIT_BAL  SEX  EDUCATION  MARRIAGE  AGE  PAY_1  PAY_2  PAY_3  PAY_4  \\\n",
       "0   1    20000.0    2          2         1   24      2      2     -1     -1   \n",
       "1   2   120000.0    2          2         2   26     -1      2      0      0   \n",
       "2   3    90000.0    2          2         2   34      0      0      0      0   \n",
       "3   4    50000.0    2          2         1   37      0      0      0      0   \n",
       "4   5    50000.0    1          2         1   57     -1      0     -1      0   \n",
       "\n",
       "   PAY_5  PAY_6  BILL_AMT1  BILL_AMT2  BILL_AMT3  BILL_AMT4  BILL_AMT5  \\\n",
       "0     -2     -2     3913.0     3102.0      689.0        0.0        0.0   \n",
       "1      0      2     2682.0     1725.0     2682.0     3272.0     3455.0   \n",
       "2      0      0    29239.0    14027.0    13559.0    14331.0    14948.0   \n",
       "3      0      0    46990.0    48233.0    49291.0    28314.0    28959.0   \n",
       "4      0      0     8617.0     5670.0    35835.0    20940.0    19146.0   \n",
       "\n",
       "   BILL_AMT6  PAY_AMT1  PAY_AMT2  PAY_AMT3  PAY_AMT4  PAY_AMT5  PAY_AMT6  \\\n",
       "0        0.0       0.0     689.0       0.0       0.0       0.0       0.0   \n",
       "1     3261.0       0.0    1000.0    1000.0    1000.0       0.0    2000.0   \n",
       "2    15549.0    1518.0    1500.0    1000.0    1000.0    1000.0    5000.0   \n",
       "3    29547.0    2000.0    2019.0    1200.0    1100.0    1069.0    1000.0   \n",
       "4    19131.0    2000.0   36681.0   10000.0    9000.0     689.0     679.0   \n",
       "\n",
       "   Default_Prediction  \n",
       "0                   1  \n",
       "1                   1  \n",
       "2                   0  \n",
       "3                   0  \n",
       "4                   0  "
      ]
     },
     "execution_count": 9,
     "metadata": {},
     "output_type": "execute_result"
    }
   ],
   "source": [
    "dataset.head()"
   ]
  },
  {
   "cell_type": "markdown",
   "id": "db095a40",
   "metadata": {},
   "source": [
    "## Exploratory Data Analysis(EDA)"
   ]
  },
  {
   "cell_type": "code",
   "execution_count": 10,
   "id": "f8939ca2",
   "metadata": {},
   "outputs": [
    {
     "data": {
      "text/plain": [
       "Text(0.5, 1.0, 'Non-Defaulters vs Defaulters')"
      ]
     },
     "execution_count": 10,
     "metadata": {},
     "output_type": "execute_result"
    },
    {
     "data": {
      "image/png": "[encoded data removed]",
      "text/plain": [
       "<Figure size 432x288 with 1 Axes>"
      ]
     },
     "metadata": {
      "needs_background": "light"
     },
     "output_type": "display_data"
    }
   ],
   "source": [
    "sns.countplot(dataset['Default_Prediction'])\n",
    "plt.title('Non-Defaulters vs Defaulters')"
   ]
  },
  {
   "cell_type": "code",
   "execution_count": 11,
   "id": "68ccc583",
   "metadata": {},
   "outputs": [
    {
     "data": {
      "text/plain": [
       "0    23364\n",
       "1     6636\n",
       "Name: Default_Prediction, dtype: int64"
      ]
     },
     "execution_count": 11,
     "metadata": {},
     "output_type": "execute_result"
    }
   ],
   "source": [
    "dataset['Default_Prediction'].value_counts()"
   ]
  },
  {
   "cell_type": "markdown",
   "id": "fb3160fe",
   "metadata": {},
   "source": [
    "--> As per the above outcome, we can say dataset is Imbalanced. And only 22.12% of defaulters present in the dataset. We will keep this in mind and will check later."
   ]
  },
  {
   "cell_type": "code",
   "execution_count": 12,
   "id": "d63da80b",
   "metadata": {},
   "outputs": [],
   "source": [
    "#Checking for Categorical features\n",
    "Categorical_features=[features for features in dataset if dataset[features].dtypes=='object']"
   ]
  },
  {
   "cell_type": "code",
   "execution_count": 13,
   "id": "e9b8a7ce",
   "metadata": {},
   "outputs": [
    {
     "data": {
      "text/plain": [
       "[]"
      ]
     },
     "execution_count": 13,
     "metadata": {},
     "output_type": "execute_result"
    }
   ],
   "source": [
    "Categorical_features"
   ]
  },
  {
   "cell_type": "markdown",
   "id": "147186ad",
   "metadata": {},
   "source": [
    "--> Here we have no Categorical features. So, all the features are Numerical features"
   ]
  },
  {
   "cell_type": "markdown",
   "id": "50e91588",
   "metadata": {},
   "source": [
    "### Numerical features are two types. \n",
    "1. Discrete features \n",
    "2. Continuous features"
   ]
  },
  {
   "cell_type": "markdown",
   "id": "cfbfeb7a",
   "metadata": {},
   "source": [
    "#### 1. Finding the Discreate features"
   ]
  },
  {
   "cell_type": "code",
   "execution_count": 14,
   "id": "8fc037c4",
   "metadata": {},
   "outputs": [],
   "source": [
    "discrete_features=[features for features in dataset.columns if len(dataset[features].unique())<=25]"
   ]
  },
  {
   "cell_type": "code",
   "execution_count": 15,
   "id": "a9e7b96b",
   "metadata": {},
   "outputs": [
    {
     "data": {
      "text/plain": [
       "['SEX',\n",
       " 'EDUCATION',\n",
       " 'MARRIAGE',\n",
       " 'PAY_1',\n",
       " 'PAY_2',\n",
       " 'PAY_3',\n",
       " 'PAY_4',\n",
       " 'PAY_5',\n",
       " 'PAY_6',\n",
       " 'Default_Prediction']"
      ]
     },
     "execution_count": 15,
     "metadata": {},
     "output_type": "execute_result"
    }
   ],
   "source": [
    "discrete_features"
   ]
  },
  {
   "cell_type": "markdown",
   "id": "b39f3b7d",
   "metadata": {},
   "source": [
    "#### 2. Finding the Continuous features"
   ]
  },
  {
   "cell_type": "code",
   "execution_count": 16,
   "id": "60a18e4c",
   "metadata": {},
   "outputs": [],
   "source": [
    "continuous_features=[features for features in dataset.columns if features not in discrete_features]"
   ]
  },
  {
   "cell_type": "code",
   "execution_count": 17,
   "id": "d46ea2e2",
   "metadata": {},
   "outputs": [
    {
     "data": {
      "text/plain": [
       "['ID',\n",
       " 'LIMIT_BAL',\n",
       " 'AGE',\n",
       " 'BILL_AMT1',\n",
       " 'BILL_AMT2',\n",
       " 'BILL_AMT3',\n",
       " 'BILL_AMT4',\n",
       " 'BILL_AMT5',\n",
       " 'BILL_AMT6',\n",
       " 'PAY_AMT1',\n",
       " 'PAY_AMT2',\n",
       " 'PAY_AMT3',\n",
       " 'PAY_AMT4',\n",
       " 'PAY_AMT5',\n",
       " 'PAY_AMT6']"
      ]
     },
     "execution_count": 17,
     "metadata": {},
     "output_type": "execute_result"
    }
   ],
   "source": [
    "continuous_features"
   ]
  },
  {
   "cell_type": "code",
   "execution_count": 18,
   "id": "38bba228",
   "metadata": {},
   "outputs": [
    {
     "data": {
      "text/plain": [
       "81"
      ]
     },
     "execution_count": 18,
     "metadata": {},
     "output_type": "execute_result"
    }
   ],
   "source": [
    "len(dataset['LIMIT_BAL'].unique())"
   ]
  },
  {
   "cell_type": "markdown",
   "id": "22503075",
   "metadata": {},
   "source": [
    "### Dealing with Discrete features"
   ]
  },
  {
   "cell_type": "markdown",
   "id": "f8b56bbe",
   "metadata": {},
   "source": [
    "#### SEX, EDUCATION, MARRIAGE\n",
    "Dealing with these 3 features first\n",
    "\n",
    "* SEX: Gender (1=male, 2=female)\n",
    "* EDUCATION: (1=graduate school, 2=university, 3=high school, 4=others, 5=unknown, 6=unknown)\n",
    "* MARRIAGE: Marital status (1=married, 2=single, 3=others)"
   ]
  },
  {
   "cell_type": "markdown",
   "id": "b74fa043",
   "metadata": {},
   "source": [
    "### SEX ♀♂"
   ]
  },
  {
   "cell_type": "code",
   "execution_count": 19,
   "id": "784c4753",
   "metadata": {},
   "outputs": [
    {
     "data": {
      "image/png": "[encoded data removed]",
      "text/plain": [
       "<Figure size 432x288 with 1 Axes>"
      ]
     },
     "metadata": {
      "needs_background": "light"
     },
     "output_type": "display_data"
    },
    {
     "data": {
      "text/plain": [
       "female    18112\n",
       "male      11888\n",
       "Name: SEX, dtype: int64"
      ]
     },
     "execution_count": 19,
     "metadata": {},
     "output_type": "execute_result"
    }
   ],
   "source": [
    "#Replacing values in the features with their Actual names\n",
    "dataset['SEX']=dataset['SEX'].replace({1:'male', 2:'female'})\n",
    "\n",
    "sns.countplot(dataset['SEX'])\n",
    "plt.title(\"Male vs Female\")\n",
    "plt.show()\n",
    "\n",
    "dataset['SEX'].value_counts()"
   ]
  },
  {
   "cell_type": "markdown",
   "id": "64ac8444",
   "metadata": {},
   "source": [
    "* Here we have more females in dataset than males in the dataset"
   ]
  },
  {
   "cell_type": "code",
   "execution_count": 20,
   "id": "2ecb9d5c",
   "metadata": {},
   "outputs": [],
   "source": [
    "def bar_plot(feature):\n",
    "    plt.figure(figsize=(9,5))\n",
    "    ax = sns.barplot(x = feature, y = \"Default_Prediction\", data = dataset, palette ='rocket_r', ci = None)\n",
    "\n",
    "    plt.xlabel(f'{feature}', fontsize= 12)\n",
    "    plt.ylabel(\"% of Default\", fontsize= 12)\n",
    "    plt.ylim(0,0.5)\n",
    "    for p in ax.patches:\n",
    "        ax.annotate(\"%.2f\" %(p.get_height()), (p.get_x()+0.25, p.get_height()+0.03),fontsize=13)\n",
    "    plt.show()"
   ]
  },
  {
   "cell_type": "code",
   "execution_count": 21,
   "id": "285c0528",
   "metadata": {},
   "outputs": [
    {
     "data": {
      "image/png": "[encoded data removed]",
      "text/plain": [
       "<Figure size 648x360 with 1 Axes>"
      ]
     },
     "metadata": {
      "needs_background": "light"
     },
     "output_type": "display_data"
    }
   ],
   "source": [
    "bar_plot('SEX')"
   ]
  },
  {
   "cell_type": "markdown",
   "id": "a608c690",
   "metadata": {},
   "source": [
    "* So, from plot we can say Males are more likely to Default next month than Females"
   ]
  },
  {
   "cell_type": "markdown",
   "id": "ef5f68e9",
   "metadata": {},
   "source": [
    "### EDUCATION 👨‍🎓\n",
    "\n",
    "EDUCATION: (1=graduate school, 2=university, 3=high school, 4=others, 5=unknown, 6=unknown)"
   ]
  },
  {
   "cell_type": "code",
   "execution_count": 22,
   "id": "aa0ec6ae",
   "metadata": {
    "scrolled": true
   },
   "outputs": [
    {
     "data": {
      "text/plain": [
       "2    14030\n",
       "1    10585\n",
       "3     4917\n",
       "5      280\n",
       "4      123\n",
       "6       51\n",
       "0       14\n",
       "Name: EDUCATION, dtype: int64"
      ]
     },
     "execution_count": 22,
     "metadata": {},
     "output_type": "execute_result"
    }
   ],
   "source": [
    "dataset['EDUCATION'].value_counts()"
   ]
  },
  {
   "cell_type": "markdown",
   "id": "9b733954",
   "metadata": {},
   "source": [
    "--> Here, we have some other values in Education like {0,4,5,6} which are not in first 3 categories. So, we are replacing all with section 4"
   ]
  },
  {
   "cell_type": "code",
   "execution_count": 23,
   "id": "388a5317",
   "metadata": {},
   "outputs": [],
   "source": [
    "dataset['EDUCATION']=dataset['EDUCATION'].replace({0:4,5:4,6:4})"
   ]
  },
  {
   "cell_type": "code",
   "execution_count": 24,
   "id": "5f99869d",
   "metadata": {},
   "outputs": [],
   "source": [
    "dataset['EDUCATION']=dataset['EDUCATION'].replace({1:'graduate school',2:'university',3:'high school',4:'others'})"
   ]
  },
  {
   "cell_type": "code",
   "execution_count": 25,
   "id": "01806628",
   "metadata": {},
   "outputs": [
    {
     "data": {
      "text/plain": [
       "<AxesSubplot:xlabel='EDUCATION', ylabel='count'>"
      ]
     },
     "execution_count": 25,
     "metadata": {},
     "output_type": "execute_result"
    },
    {
     "data": {
      "image/png": "[encoded data removed]",
      "text/plain": [
       "<Figure size 432x288 with 1 Axes>"
      ]
     },
     "metadata": {
      "needs_background": "light"
     },
     "output_type": "display_data"
    }
   ],
   "source": [
    "sns.countplot(dataset['EDUCATION'])"
   ]
  },
  {
   "cell_type": "code",
   "execution_count": 26,
   "id": "b977e625",
   "metadata": {},
   "outputs": [
    {
     "data": {
      "image/png": "[encoded data removed]",
      "text/plain": [
       "<Figure size 648x360 with 1 Axes>"
      ]
     },
     "metadata": {
      "needs_background": "light"
     },
     "output_type": "display_data"
    }
   ],
   "source": [
    "bar_plot('EDUCATION')"
   ]
  },
  {
   "cell_type": "markdown",
   "id": "74d06de8",
   "metadata": {},
   "source": [
    "* The predominant level of education in our dataset is 'University', followed by 'Grad School', 'High School' and 'Others'.\n",
    "* From plot, Highschool and University candidates are more likely to Default."
   ]
  },
  {
   "cell_type": "markdown",
   "id": "2c39b296",
   "metadata": {},
   "source": [
    "### MARRIAGE 💍\n",
    "\n",
    "MARRIAGE: Marital status (1=married, 2=single, 3=others)"
   ]
  },
  {
   "cell_type": "code",
   "execution_count": 27,
   "id": "56c718b3",
   "metadata": {},
   "outputs": [
    {
     "data": {
      "text/plain": [
       "2    15964\n",
       "1    13659\n",
       "3      323\n",
       "0       54\n",
       "Name: MARRIAGE, dtype: int64"
      ]
     },
     "execution_count": 27,
     "metadata": {},
     "output_type": "execute_result"
    }
   ],
   "source": [
    "dataset['MARRIAGE'].value_counts()"
   ]
  },
  {
   "cell_type": "code",
   "execution_count": 28,
   "id": "a624ccb1",
   "metadata": {},
   "outputs": [],
   "source": [
    "dataset['MARRIAGE']=dataset['MARRIAGE'].replace({0:3})\n",
    "dataset['MARRIAGE']=dataset['MARRIAGE'].replace({1:'married',2:'single',3:'others'})"
   ]
  },
  {
   "cell_type": "code",
   "execution_count": 29,
   "id": "487fee58",
   "metadata": {},
   "outputs": [
    {
     "data": {
      "text/plain": [
       "<AxesSubplot:xlabel='MARRIAGE', ylabel='count'>"
      ]
     },
     "execution_count": 29,
     "metadata": {},
     "output_type": "execute_result"
    },
    {
     "data": {
      "image/png": "[encoded data removed]",
      "text/plain": [
       "<Figure size 432x288 with 1 Axes>"
      ]
     },
     "metadata": {
      "needs_background": "light"
     },
     "output_type": "display_data"
    }
   ],
   "source": [
    "sns.countplot(dataset['MARRIAGE'])"
   ]
  },
  {
   "cell_type": "code",
   "execution_count": 30,
   "id": "717703a6",
   "metadata": {},
   "outputs": [
    {
     "data": {
      "image/png": "[encoded data removed]",
      "text/plain": [
       "<Figure size 648x360 with 1 Axes>"
      ]
     },
     "metadata": {
      "needs_background": "light"
     },
     "output_type": "display_data"
    }
   ],
   "source": [
    "bar_plot('MARRIAGE')"
   ]
  },
  {
   "cell_type": "markdown",
   "id": "586bf41a",
   "metadata": {},
   "source": [
    "* As expected, most people fall either on the 'Married' or 'Single' category, and Single people are less likely to get Default."
   ]
  },
  {
   "cell_type": "markdown",
   "id": "4f88d247",
   "metadata": {},
   "source": [
    "-->Now, we have below 6 Repayment status features to Analyse\n",
    "### PAY_1, PAY_2, PAY_3, PAY_4, PAY_5, PAY_6\n",
    "\n",
    "Repayment status: (-1=pay duly, 1=payment delay for one month, 2=payment delay for two months, ... 8=payment delay for eight months, 9=payment delay for nine months and above)"
   ]
  },
  {
   "cell_type": "code",
   "execution_count": 31,
   "id": "2db416ad",
   "metadata": {},
   "outputs": [
    {
     "data": {
      "text/plain": [
       " 0    14737\n",
       "-1     5686\n",
       " 1     3688\n",
       "-2     2759\n",
       " 2     2667\n",
       " 3      322\n",
       " 4       76\n",
       " 5       26\n",
       " 8       19\n",
       " 6       11\n",
       " 7        9\n",
       "Name: PAY_1, dtype: int64"
      ]
     },
     "execution_count": 31,
     "metadata": {},
     "output_type": "execute_result"
    }
   ],
   "source": [
    "dataset['PAY_1'].value_counts()"
   ]
  },
  {
   "cell_type": "code",
   "execution_count": 32,
   "id": "3cff9b13",
   "metadata": {},
   "outputs": [
    {
     "data": {
      "text/plain": [
       " 0    15730\n",
       "-1     6050\n",
       " 2     3927\n",
       "-2     3782\n",
       " 3      326\n",
       " 4       99\n",
       " 1       28\n",
       " 5       25\n",
       " 7       20\n",
       " 6       12\n",
       " 8        1\n",
       "Name: PAY_2, dtype: int64"
      ]
     },
     "execution_count": 32,
     "metadata": {},
     "output_type": "execute_result"
    }
   ],
   "source": [
    "dataset['PAY_2'].value_counts()"
   ]
  },
  {
   "cell_type": "markdown",
   "id": "aa2f6834",
   "metadata": {},
   "source": [
    "--> We are replacing the values -1,-2 with 0."
   ]
  },
  {
   "cell_type": "code",
   "execution_count": 33,
   "id": "c49eb899",
   "metadata": {},
   "outputs": [],
   "source": [
    "for i in range(1,7):\n",
    "    field='PAY_'+str(i)\n",
    "    dataset[field]=dataset[field].replace({-1:0})\n",
    "    dataset[field]=dataset[field].replace({-2:0})"
   ]
  },
  {
   "cell_type": "code",
   "execution_count": 34,
   "id": "79145403",
   "metadata": {},
   "outputs": [
    {
     "data": {
      "text/plain": [
       "0    25562\n",
       "2     3927\n",
       "3      326\n",
       "4       99\n",
       "1       28\n",
       "5       25\n",
       "7       20\n",
       "6       12\n",
       "8        1\n",
       "Name: PAY_2, dtype: int64"
      ]
     },
     "execution_count": 34,
     "metadata": {},
     "output_type": "execute_result"
    }
   ],
   "source": [
    "dataset['PAY_2'].value_counts()"
   ]
  },
  {
   "cell_type": "markdown",
   "id": "cca38af2",
   "metadata": {},
   "source": [
    "#### Checking the correction between PAY_X features"
   ]
  },
  {
   "cell_type": "code",
   "execution_count": 35,
   "id": "2af3cb3d",
   "metadata": {},
   "outputs": [
    {
     "data": {
      "text/plain": [
       "<AxesSubplot:>"
      ]
     },
     "execution_count": 35,
     "metadata": {},
     "output_type": "execute_result"
    },
    {
     "data": {
      "image/png": "[encoded data removed]",
      "text/plain": [
       "<Figure size 720x432 with 2 Axes>"
      ]
     },
     "metadata": {
      "needs_background": "light"
     },
     "output_type": "display_data"
    }
   ],
   "source": [
    "dst = dataset[['PAY_1','PAY_2','PAY_3','PAY_4','PAY_5','PAY_6']].corr().round(2)\n",
    "plt.figure(figsize=(10,6))\n",
    "sns.heatmap(dst,annot = True)"
   ]
  },
  {
   "cell_type": "markdown",
   "id": "26fb8808",
   "metadata": {},
   "source": [
    "* Here, we can find some correlation between PAY_X features but, not all features are internally correlated. Only feature depends partly on previous month feature. Dropping columns here may reduce model performance, so not dropping any columns."
   ]
  },
  {
   "cell_type": "markdown",
   "id": "a97aa765",
   "metadata": {},
   "source": [
    "### Dealing with Continuous features"
   ]
  },
  {
   "cell_type": "code",
   "execution_count": 36,
   "id": "633a5cc6",
   "metadata": {},
   "outputs": [],
   "source": [
    "#Dropping the unique ID column\n",
    "dataset=dataset.drop(columns='ID')"
   ]
  },
  {
   "cell_type": "code",
   "execution_count": 37,
   "id": "b7d22f56",
   "metadata": {},
   "outputs": [
    {
     "data": {
      "text/html": [
       "<div>\n",
       "<style scoped>\n",
       "    .dataframe tbody tr th:only-of-type {\n",
       "        vertical-align: middle;\n",
       "    }\n",
       "\n",
       "    .dataframe tbody tr th {\n",
       "        vertical-align: top;\n",
       "    }\n",
       "\n",
       "    .dataframe thead th {\n",
       "        text-align: right;\n",
       "    }\n",
       "</style>\n",
       "<table border=\"1\" class=\"dataframe\">\n",
       "  <thead>\n",
       "    <tr style=\"text-align: right;\">\n",
       "      <th></th>\n",
       "      <th>LIMIT_BAL</th>\n",
       "      <th>SEX</th>\n",
       "      <th>EDUCATION</th>\n",
       "      <th>MARRIAGE</th>\n",
       "      <th>AGE</th>\n",
       "      <th>PAY_1</th>\n",
       "      <th>PAY_2</th>\n",
       "      <th>PAY_3</th>\n",
       "      <th>PAY_4</th>\n",
       "      <th>PAY_5</th>\n",
       "      <th>PAY_6</th>\n",
       "      <th>BILL_AMT1</th>\n",
       "      <th>BILL_AMT2</th>\n",
       "      <th>BILL_AMT3</th>\n",
       "      <th>BILL_AMT4</th>\n",
       "      <th>BILL_AMT5</th>\n",
       "      <th>BILL_AMT6</th>\n",
       "      <th>PAY_AMT1</th>\n",
       "      <th>PAY_AMT2</th>\n",
       "      <th>PAY_AMT3</th>\n",
       "      <th>PAY_AMT4</th>\n",
       "      <th>PAY_AMT5</th>\n",
       "      <th>PAY_AMT6</th>\n",
       "      <th>Default_Prediction</th>\n",
       "    </tr>\n",
       "  </thead>\n",
       "  <tbody>\n",
       "    <tr>\n",
       "      <th>0</th>\n",
       "      <td>20000.0</td>\n",
       "      <td>female</td>\n",
       "      <td>university</td>\n",
       "      <td>married</td>\n",
       "      <td>24</td>\n",
       "      <td>2</td>\n",
       "      <td>2</td>\n",
       "      <td>0</td>\n",
       "      <td>0</td>\n",
       "      <td>0</td>\n",
       "      <td>0</td>\n",
       "      <td>3913.0</td>\n",
       "      <td>3102.0</td>\n",
       "      <td>689.0</td>\n",
       "      <td>0.0</td>\n",
       "      <td>0.0</td>\n",
       "      <td>0.0</td>\n",
       "      <td>0.0</td>\n",
       "      <td>689.0</td>\n",
       "      <td>0.0</td>\n",
       "      <td>0.0</td>\n",
       "      <td>0.0</td>\n",
       "      <td>0.0</td>\n",
       "      <td>1</td>\n",
       "    </tr>\n",
       "    <tr>\n",
       "      <th>1</th>\n",
       "      <td>120000.0</td>\n",
       "      <td>female</td>\n",
       "      <td>university</td>\n",
       "      <td>single</td>\n",
       "      <td>26</td>\n",
       "      <td>0</td>\n",
       "      <td>2</td>\n",
       "      <td>0</td>\n",
       "      <td>0</td>\n",
       "      <td>0</td>\n",
       "      <td>2</td>\n",
       "      <td>2682.0</td>\n",
       "      <td>1725.0</td>\n",
       "      <td>2682.0</td>\n",
       "      <td>3272.0</td>\n",
       "      <td>3455.0</td>\n",
       "      <td>3261.0</td>\n",
       "      <td>0.0</td>\n",
       "      <td>1000.0</td>\n",
       "      <td>1000.0</td>\n",
       "      <td>1000.0</td>\n",
       "      <td>0.0</td>\n",
       "      <td>2000.0</td>\n",
       "      <td>1</td>\n",
       "    </tr>\n",
       "    <tr>\n",
       "      <th>2</th>\n",
       "      <td>90000.0</td>\n",
       "      <td>female</td>\n",
       "      <td>university</td>\n",
       "      <td>single</td>\n",
       "      <td>34</td>\n",
       "      <td>0</td>\n",
       "      <td>0</td>\n",
       "      <td>0</td>\n",
       "      <td>0</td>\n",
       "      <td>0</td>\n",
       "      <td>0</td>\n",
       "      <td>29239.0</td>\n",
       "      <td>14027.0</td>\n",
       "      <td>13559.0</td>\n",
       "      <td>14331.0</td>\n",
       "      <td>14948.0</td>\n",
       "      <td>15549.0</td>\n",
       "      <td>1518.0</td>\n",
       "      <td>1500.0</td>\n",
       "      <td>1000.0</td>\n",
       "      <td>1000.0</td>\n",
       "      <td>1000.0</td>\n",
       "      <td>5000.0</td>\n",
       "      <td>0</td>\n",
       "    </tr>\n",
       "    <tr>\n",
       "      <th>3</th>\n",
       "      <td>50000.0</td>\n",
       "      <td>female</td>\n",
       "      <td>university</td>\n",
       "      <td>married</td>\n",
       "      <td>37</td>\n",
       "      <td>0</td>\n",
       "      <td>0</td>\n",
       "      <td>0</td>\n",
       "      <td>0</td>\n",
       "      <td>0</td>\n",
       "      <td>0</td>\n",
       "      <td>46990.0</td>\n",
       "      <td>48233.0</td>\n",
       "      <td>49291.0</td>\n",
       "      <td>28314.0</td>\n",
       "      <td>28959.0</td>\n",
       "      <td>29547.0</td>\n",
       "      <td>2000.0</td>\n",
       "      <td>2019.0</td>\n",
       "      <td>1200.0</td>\n",
       "      <td>1100.0</td>\n",
       "      <td>1069.0</td>\n",
       "      <td>1000.0</td>\n",
       "      <td>0</td>\n",
       "    </tr>\n",
       "    <tr>\n",
       "      <th>4</th>\n",
       "      <td>50000.0</td>\n",
       "      <td>male</td>\n",
       "      <td>university</td>\n",
       "      <td>married</td>\n",
       "      <td>57</td>\n",
       "      <td>0</td>\n",
       "      <td>0</td>\n",
       "      <td>0</td>\n",
       "      <td>0</td>\n",
       "      <td>0</td>\n",
       "      <td>0</td>\n",
       "      <td>8617.0</td>\n",
       "      <td>5670.0</td>\n",
       "      <td>35835.0</td>\n",
       "      <td>20940.0</td>\n",
       "      <td>19146.0</td>\n",
       "      <td>19131.0</td>\n",
       "      <td>2000.0</td>\n",
       "      <td>36681.0</td>\n",
       "      <td>10000.0</td>\n",
       "      <td>9000.0</td>\n",
       "      <td>689.0</td>\n",
       "      <td>679.0</td>\n",
       "      <td>0</td>\n",
       "    </tr>\n",
       "  </tbody>\n",
       "</table>\n",
       "</div>"
      ],
      "text/plain": [
       "   LIMIT_BAL     SEX   EDUCATION MARRIAGE  AGE  PAY_1  PAY_2  PAY_3  PAY_4  \\\n",
       "0    20000.0  female  university  married   24      2      2      0      0   \n",
       "1   120000.0  female  university   single   26      0      2      0      0   \n",
       "2    90000.0  female  university   single   34      0      0      0      0   \n",
       "3    50000.0  female  university  married   37      0      0      0      0   \n",
       "4    50000.0    male  university  married   57      0      0      0      0   \n",
       "\n",
       "   PAY_5  PAY_6  BILL_AMT1  BILL_AMT2  BILL_AMT3  BILL_AMT4  BILL_AMT5  \\\n",
       "0      0      0     3913.0     3102.0      689.0        0.0        0.0   \n",
       "1      0      2     2682.0     1725.0     2682.0     3272.0     3455.0   \n",
       "2      0      0    29239.0    14027.0    13559.0    14331.0    14948.0   \n",
       "3      0      0    46990.0    48233.0    49291.0    28314.0    28959.0   \n",
       "4      0      0     8617.0     5670.0    35835.0    20940.0    19146.0   \n",
       "\n",
       "   BILL_AMT6  PAY_AMT1  PAY_AMT2  PAY_AMT3  PAY_AMT4  PAY_AMT5  PAY_AMT6  \\\n",
       "0        0.0       0.0     689.0       0.0       0.0       0.0       0.0   \n",
       "1     3261.0       0.0    1000.0    1000.0    1000.0       0.0    2000.0   \n",
       "2    15549.0    1518.0    1500.0    1000.0    1000.0    1000.0    5000.0   \n",
       "3    29547.0    2000.0    2019.0    1200.0    1100.0    1069.0    1000.0   \n",
       "4    19131.0    2000.0   36681.0   10000.0    9000.0     689.0     679.0   \n",
       "\n",
       "   Default_Prediction  \n",
       "0                   1  \n",
       "1                   1  \n",
       "2                   0  \n",
       "3                   0  \n",
       "4                   0  "
      ]
     },
     "execution_count": 37,
     "metadata": {},
     "output_type": "execute_result"
    }
   ],
   "source": [
    "dataset.head()"
   ]
  },
  {
   "cell_type": "markdown",
   "id": "4d992a1b",
   "metadata": {},
   "source": [
    "### LIMIT_BAL\n",
    "\n",
    "LIMIT_BAL: Amount of given credit in NT dollars (includes individual and family/supplementary credit!"
   ]
  },
  {
   "cell_type": "code",
   "execution_count": 38,
   "id": "b51b5b68",
   "metadata": {},
   "outputs": [
    {
     "data": {
      "image/png": "[encoded data removed]",
      "text/plain": [
       "<Figure size 1080x576 with 1 Axes>"
      ]
     },
     "metadata": {
      "needs_background": "light"
     },
     "output_type": "display_data"
    }
   ],
   "source": [
    "plt.figure(figsize=(15,8))\n",
    "sns.histplot(x=dataset['LIMIT_BAL'],kde=True)\n",
    "plt.show()"
   ]
  },
  {
   "cell_type": "markdown",
   "id": "ae2c32f2",
   "metadata": {},
   "source": [
    "* Most of the LIMIT_BAL data is concentrated between 0 to 0.4"
   ]
  },
  {
   "cell_type": "code",
   "execution_count": 39,
   "id": "ea47c34a",
   "metadata": {},
   "outputs": [
    {
     "data": {
      "text/plain": [
       "<AxesSubplot:xlabel='LIMIT_BAL'>"
      ]
     },
     "execution_count": 39,
     "metadata": {},
     "output_type": "execute_result"
    },
    {
     "data": {
      "image/png": "[encoded data removed]",
      "text/plain": [
       "<Figure size 432x288 with 1 Axes>"
      ]
     },
     "metadata": {
      "needs_background": "light"
     },
     "output_type": "display_data"
    }
   ],
   "source": [
    "sns.boxplot(dataset['LIMIT_BAL'])"
   ]
  },
  {
   "cell_type": "markdown",
   "id": "e966f592",
   "metadata": {},
   "source": [
    "* Finding the outliers"
   ]
  },
  {
   "cell_type": "markdown",
   "id": "b190a0dd",
   "metadata": {},
   "source": [
    "#### Finding Outliers"
   ]
  },
  {
   "cell_type": "code",
   "execution_count": 40,
   "id": "c85f75db",
   "metadata": {},
   "outputs": [],
   "source": [
    "outliers = []\n",
    "def Finding_outliers(data):\n",
    "    data = sorted(data)\n",
    "    q1 = np.percentile(data, 25)\n",
    "    q3 = np.percentile(data, 75)\n",
    "    IQR = q3-q1\n",
    "    lwr_bound = q1-(1.5*IQR)\n",
    "    upr_bound = q3+(1.5*IQR)\n",
    "    for i in data: \n",
    "        if (i<lwr_bound or i>upr_bound):\n",
    "            outliers.append(i)\n",
    "    return outliers"
   ]
  },
  {
   "cell_type": "code",
   "execution_count": 41,
   "id": "71bbb84e",
   "metadata": {},
   "outputs": [],
   "source": [
    "outliers = Finding_outliers(dataset['LIMIT_BAL'])"
   ]
  },
  {
   "cell_type": "code",
   "execution_count": 42,
   "id": "87321d2d",
   "metadata": {},
   "outputs": [
    {
     "data": {
      "text/plain": [
       "167"
      ]
     },
     "execution_count": 42,
     "metadata": {},
     "output_type": "execute_result"
    }
   ],
   "source": [
    "len(outliers)"
   ]
  },
  {
   "cell_type": "markdown",
   "id": "4ce89dfb",
   "metadata": {},
   "source": [
    "#### Handling Outliers\n",
    "\n",
    "We can handle outliers in 3 methods.\n",
    "1. Removing/deleting the outliers\n",
    "2. Replacing them with mean/median\n",
    "3. Quantile based flooring and capping"
   ]
  },
  {
   "cell_type": "markdown",
   "id": "be5d39b3",
   "metadata": {},
   "source": [
    "* We are not Deleting any of the records, since this was a imbalanced dataset, it may effect model performance. Let's check with both the cases 2 & 3 and decide which one to consider for training"
   ]
  },
  {
   "cell_type": "code",
   "execution_count": 43,
   "id": "6c012a79",
   "metadata": {},
   "outputs": [
    {
     "name": "stdout",
     "output_type": "stream",
     "text": [
      "New array:  [ 20000. 120000.  90000. ...  30000.  80000.  50000.]\n"
     ]
    }
   ],
   "source": [
    "median = np.median(dataset['LIMIT_BAL'])# Replace with median\n",
    "for i in outliers:\n",
    "    c = np.where(dataset['LIMIT_BAL']==i, median, dataset['LIMIT_BAL'])\n",
    "print(\"New array: \",c)\n",
    "#dataset['LIMIT_BAL']=c"
   ]
  },
  {
   "cell_type": "code",
   "execution_count": 44,
   "id": "312370f6",
   "metadata": {},
   "outputs": [
    {
     "data": {
      "text/plain": [
       "<AxesSubplot:>"
      ]
     },
     "execution_count": 44,
     "metadata": {},
     "output_type": "execute_result"
    },
    {
     "data": {
      "image/png": "[encoded data removed]",
      "text/plain": [
       "<Figure size 432x288 with 1 Axes>"
      ]
     },
     "metadata": {
      "needs_background": "light"
     },
     "output_type": "display_data"
    }
   ],
   "source": [
    "sns.boxplot(c)"
   ]
  },
  {
   "cell_type": "code",
   "execution_count": 45,
   "id": "bd0e990f",
   "metadata": {},
   "outputs": [
    {
     "data": {
      "text/plain": [
       "count      30000.000000\n",
       "mean      167484.322667\n",
       "std       129747.661567\n",
       "min        10000.000000\n",
       "25%        50000.000000\n",
       "50%       140000.000000\n",
       "75%       240000.000000\n",
       "max      1000000.000000\n",
       "Name: LIMIT_BAL, dtype: float64"
      ]
     },
     "execution_count": 45,
     "metadata": {},
     "output_type": "execute_result"
    }
   ],
   "source": [
    "dataset['LIMIT_BAL'].describe()"
   ]
  },
  {
   "cell_type": "code",
   "execution_count": 46,
   "id": "81f1eca4",
   "metadata": {},
   "outputs": [
    {
     "name": "stdout",
     "output_type": "stream",
     "text": [
      "30000.0 360000.0\n",
      "New array: [ 30000. 120000.  90000. ...  30000.  80000.  50000.]\n"
     ]
    }
   ],
   "source": [
    "# Computing 10th, 90th percentiles and replacing the outliers\n",
    "sample=dataset['LIMIT_BAL']\n",
    "tenth_percentile = np.percentile(sample, 10)\n",
    "ninetieth_percentile = np.percentile(sample, 90)\n",
    "print(tenth_percentile, ninetieth_percentile)\n",
    "b = np.where(sample<tenth_percentile, tenth_percentile, sample)\n",
    "b = np.where(b>ninetieth_percentile, ninetieth_percentile, b)\n",
    "print(\"New array:\",b)"
   ]
  },
  {
   "cell_type": "code",
   "execution_count": 47,
   "id": "8149c0c3",
   "metadata": {},
   "outputs": [
    {
     "data": {
      "text/plain": [
       "30000"
      ]
     },
     "execution_count": 47,
     "metadata": {},
     "output_type": "execute_result"
    }
   ],
   "source": [
    "len(b)"
   ]
  },
  {
   "cell_type": "code",
   "execution_count": 48,
   "id": "83c8b02c",
   "metadata": {},
   "outputs": [
    {
     "data": {
      "text/plain": [
       "<AxesSubplot:>"
      ]
     },
     "execution_count": 48,
     "metadata": {},
     "output_type": "execute_result"
    },
    {
     "data": {
      "image/png": "[encoded data removed]",
      "text/plain": [
       "<Figure size 432x288 with 1 Axes>"
      ]
     },
     "metadata": {
      "needs_background": "light"
     },
     "output_type": "display_data"
    }
   ],
   "source": [
    "sns.boxplot(b)"
   ]
  },
  {
   "cell_type": "code",
   "execution_count": 49,
   "id": "d41e7a65",
   "metadata": {},
   "outputs": [
    {
     "data": {
      "text/plain": [
       "0         20000.0\n",
       "1        120000.0\n",
       "2         90000.0\n",
       "3         50000.0\n",
       "4         50000.0\n",
       "           ...   \n",
       "29995    220000.0\n",
       "29996    150000.0\n",
       "29997     30000.0\n",
       "29998     80000.0\n",
       "29999     50000.0\n",
       "Name: LIMIT_BAL, Length: 30000, dtype: float64"
      ]
     },
     "execution_count": 49,
     "metadata": {},
     "output_type": "execute_result"
    }
   ],
   "source": [
    "# Considering option2 =>\n",
    "dataset['LIMIT_BAL']=c\n",
    "dataset['LIMIT_BAL']"
   ]
  },
  {
   "cell_type": "markdown",
   "id": "4e93f526",
   "metadata": {},
   "source": [
    "* We can also convert these values to bins to get clear picture of how it relates to Defauters.."
   ]
  },
  {
   "cell_type": "code",
   "execution_count": 50,
   "id": "9cdc9fcd",
   "metadata": {},
   "outputs": [],
   "source": [
    "dataset['Limit_bin'] = pd.cut(dataset['LIMIT_BAL'],bins=[5000, 50000, 100000, 150000, 200000, 300000, 400000, 500000, 1100000],labels = ['5000-50000', '50000-100000','100000-150000','150000-200000','200000-300000','300000-400000','400000-500000','500000-1100000'])"
   ]
  },
  {
   "cell_type": "code",
   "execution_count": 51,
   "id": "8f7e5a71",
   "metadata": {},
   "outputs": [
    {
     "data": {
      "text/plain": [
       "5000-50000        7676\n",
       "200000-300000     5059\n",
       "50000-100000      4822\n",
       "150000-200000     3978\n",
       "100000-150000     3903\n",
       "300000-400000     2759\n",
       "400000-500000     1598\n",
       "500000-1100000     205\n",
       "Name: Limit_bin, dtype: int64"
      ]
     },
     "execution_count": 51,
     "metadata": {},
     "output_type": "execute_result"
    }
   ],
   "source": [
    "dataset['Limit_bin'].value_counts()"
   ]
  },
  {
   "cell_type": "code",
   "execution_count": 52,
   "id": "17210d34",
   "metadata": {},
   "outputs": [
    {
     "data": {
      "image/png": "[encoded data removed]",
      "text/plain": [
       "<Figure size 1008x288 with 1 Axes>"
      ]
     },
     "metadata": {
      "needs_background": "light"
     },
     "output_type": "display_data"
    }
   ],
   "source": [
    "plt.figure(figsize=(14,4))\n",
    "ax = sns.barplot(x = \"Limit_bin\", y = \"Default_Prediction\", data = dataset, palette = 'rocket_r', ci = None)\n",
    "plt.xlabel(\"Amount of Given Credit(LIMIT_BAL)\", fontsize= 12)\n",
    "plt.ylabel(\"% of Default\", fontsize= 12)\n",
    "plt.ylim(0,0.5)\n",
    "\n",
    "for p in ax.patches:\n",
    "    ax.annotate(\"%.2f\" %(p.get_height()), (p.get_x()+0.25, p.get_height()+0.03),fontsize=13)\n",
    "plt.show()"
   ]
  },
  {
   "cell_type": "markdown",
   "id": "aea40666",
   "metadata": {},
   "source": [
    "* Now, we got the clear picture that there is a significant rate of default (over 30%) from customers with 50k or less of credit limit. \n",
    "* We also can say that the higher the limit, the lower is the chance of defaulting."
   ]
  },
  {
   "cell_type": "markdown",
   "id": "df54dfcd",
   "metadata": {},
   "source": [
    "### AGE 👴"
   ]
  },
  {
   "cell_type": "code",
   "execution_count": 53,
   "id": "11a8acd3",
   "metadata": {},
   "outputs": [
    {
     "data": {
      "image/png": "[encoded data removed]",
      "text/plain": [
       "<Figure size 720x360 with 1 Axes>"
      ]
     },
     "metadata": {
      "needs_background": "light"
     },
     "output_type": "display_data"
    }
   ],
   "source": [
    "plt.figure(figsize=(10,5))\n",
    "sns.distplot(dataset['AGE'])\n",
    "plt.show()"
   ]
  },
  {
   "cell_type": "code",
   "execution_count": 54,
   "id": "5d7be660",
   "metadata": {},
   "outputs": [
    {
     "data": {
      "image/png": "[encoded data removed]",
      "text/plain": [
       "<Figure size 720x360 with 1 Axes>"
      ]
     },
     "metadata": {
      "needs_background": "light"
     },
     "output_type": "display_data"
    }
   ],
   "source": [
    "plt.figure(figsize=(10,5))\n",
    "\n",
    "sns.kdeplot(dataset.loc[(dataset['Default_Prediction'] == 0), 'AGE'], label = 'No Default', shade = True)\n",
    "sns.kdeplot(dataset.loc[(dataset['Default_Prediction'] == 1), 'AGE'], label = 'Default', shade = True)\n",
    "plt.legend()\n",
    "plt.show()"
   ]
  },
  {
   "cell_type": "markdown",
   "id": "b70b6b4e",
   "metadata": {},
   "source": [
    "* From plots, we can say Age feature is skewed and most people Age lies between range 25 to 40."
   ]
  },
  {
   "cell_type": "markdown",
   "id": "8101999e",
   "metadata": {},
   "source": [
    "--> we will divide our AGE in bins and check the percentage of default in each age group."
   ]
  },
  {
   "cell_type": "code",
   "execution_count": 55,
   "id": "8094b04c",
   "metadata": {},
   "outputs": [
    {
     "data": {
      "text/plain": [
       "count    30000.000000\n",
       "mean        35.485500\n",
       "std          9.217904\n",
       "min         21.000000\n",
       "25%         28.000000\n",
       "50%         34.000000\n",
       "75%         41.000000\n",
       "max         79.000000\n",
       "Name: AGE, dtype: float64"
      ]
     },
     "execution_count": 55,
     "metadata": {},
     "output_type": "execute_result"
    }
   ],
   "source": [
    "dataset['AGE'].describe()"
   ]
  },
  {
   "cell_type": "code",
   "execution_count": 56,
   "id": "95442c5b",
   "metadata": {},
   "outputs": [],
   "source": [
    "dataset['Age_bin'] = pd.cut(dataset['AGE'], bins = [20, 25, 30, 35, 40, 50, 60, 80],labels=['20-25','25-30','30-35','35-40','40-50','50-60','60-80'])"
   ]
  },
  {
   "cell_type": "code",
   "execution_count": 57,
   "id": "f1d2db01",
   "metadata": {},
   "outputs": [
    {
     "data": {
      "text/plain": [
       "25-30    7142\n",
       "40-50    6005\n",
       "30-35    5796\n",
       "35-40    4917\n",
       "20-25    3871\n",
       "50-60    1997\n",
       "60-80     272\n",
       "Name: Age_bin, dtype: int64"
      ]
     },
     "execution_count": 57,
     "metadata": {},
     "output_type": "execute_result"
    }
   ],
   "source": [
    "dataset['Age_bin'].value_counts()"
   ]
  },
  {
   "cell_type": "code",
   "execution_count": 58,
   "id": "0a18cee4",
   "metadata": {},
   "outputs": [
    {
     "data": {
      "image/png": "[encoded data removed]",
      "text/plain": [
       "<Figure size 648x360 with 1 Axes>"
      ]
     },
     "metadata": {
      "needs_background": "light"
     },
     "output_type": "display_data"
    }
   ],
   "source": [
    "bar_plot('Age_bin')"
   ]
  },
  {
   "cell_type": "markdown",
   "id": "c2846ce7",
   "metadata": {},
   "source": [
    "* The lowest chances of default are registered around 30-35 years old, while the highest occur at the extremes (20-25 and 60+)."
   ]
  },
  {
   "cell_type": "markdown",
   "id": "c6fa8dfc",
   "metadata": {},
   "source": [
    "^^^^^^^^^^^^^^^^^^^^^^^^^^^^^^^^^^^^^^^^^^^^^^^^^^^^^^^^^^^^^^^^^^^^^^^^^^^^^^^^^^^^^^^^^^^^^^^^^^^^^^^^^^^^^^^^^^^^^^^^^^^\n",
    "\n",
    "We need to find some one to one relations between the above features.."
   ]
  },
  {
   "cell_type": "markdown",
   "id": "e64db6e0",
   "metadata": {},
   "source": [
    "### BILL_AMT (1-6)\n",
    "\n",
    "Amount of bill statement in September to April, 2005 (NT dollar)"
   ]
  },
  {
   "cell_type": "code",
   "execution_count": 59,
   "id": "fd4cf4d2",
   "metadata": {},
   "outputs": [
    {
     "data": {
      "text/html": [
       "<div>\n",
       "<style scoped>\n",
       "    .dataframe tbody tr th:only-of-type {\n",
       "        vertical-align: middle;\n",
       "    }\n",
       "\n",
       "    .dataframe tbody tr th {\n",
       "        vertical-align: top;\n",
       "    }\n",
       "\n",
       "    .dataframe thead th {\n",
       "        text-align: right;\n",
       "    }\n",
       "</style>\n",
       "<table border=\"1\" class=\"dataframe\">\n",
       "  <thead>\n",
       "    <tr style=\"text-align: right;\">\n",
       "      <th></th>\n",
       "      <th>BILL_AMT1</th>\n",
       "      <th>BILL_AMT2</th>\n",
       "      <th>BILL_AMT3</th>\n",
       "      <th>BILL_AMT4</th>\n",
       "      <th>BILL_AMT5</th>\n",
       "      <th>BILL_AMT6</th>\n",
       "    </tr>\n",
       "  </thead>\n",
       "  <tbody>\n",
       "    <tr>\n",
       "      <th>count</th>\n",
       "      <td>30000.000000</td>\n",
       "      <td>30000.000000</td>\n",
       "      <td>3.000000e+04</td>\n",
       "      <td>30000.000000</td>\n",
       "      <td>30000.000000</td>\n",
       "      <td>30000.000000</td>\n",
       "    </tr>\n",
       "    <tr>\n",
       "      <th>mean</th>\n",
       "      <td>51223.330900</td>\n",
       "      <td>49179.075167</td>\n",
       "      <td>4.701315e+04</td>\n",
       "      <td>43262.948967</td>\n",
       "      <td>40311.400967</td>\n",
       "      <td>38871.760400</td>\n",
       "    </tr>\n",
       "    <tr>\n",
       "      <th>std</th>\n",
       "      <td>73635.860576</td>\n",
       "      <td>71173.768783</td>\n",
       "      <td>6.934939e+04</td>\n",
       "      <td>64332.856134</td>\n",
       "      <td>60797.155770</td>\n",
       "      <td>59554.107537</td>\n",
       "    </tr>\n",
       "    <tr>\n",
       "      <th>min</th>\n",
       "      <td>-165580.000000</td>\n",
       "      <td>-69777.000000</td>\n",
       "      <td>-1.572640e+05</td>\n",
       "      <td>-170000.000000</td>\n",
       "      <td>-81334.000000</td>\n",
       "      <td>-339603.000000</td>\n",
       "    </tr>\n",
       "    <tr>\n",
       "      <th>25%</th>\n",
       "      <td>3558.750000</td>\n",
       "      <td>2984.750000</td>\n",
       "      <td>2.666250e+03</td>\n",
       "      <td>2326.750000</td>\n",
       "      <td>1763.000000</td>\n",
       "      <td>1256.000000</td>\n",
       "    </tr>\n",
       "    <tr>\n",
       "      <th>50%</th>\n",
       "      <td>22381.500000</td>\n",
       "      <td>21200.000000</td>\n",
       "      <td>2.008850e+04</td>\n",
       "      <td>19052.000000</td>\n",
       "      <td>18104.500000</td>\n",
       "      <td>17071.000000</td>\n",
       "    </tr>\n",
       "    <tr>\n",
       "      <th>75%</th>\n",
       "      <td>67091.000000</td>\n",
       "      <td>64006.250000</td>\n",
       "      <td>6.016475e+04</td>\n",
       "      <td>54506.000000</td>\n",
       "      <td>50190.500000</td>\n",
       "      <td>49198.250000</td>\n",
       "    </tr>\n",
       "    <tr>\n",
       "      <th>max</th>\n",
       "      <td>964511.000000</td>\n",
       "      <td>983931.000000</td>\n",
       "      <td>1.664089e+06</td>\n",
       "      <td>891586.000000</td>\n",
       "      <td>927171.000000</td>\n",
       "      <td>961664.000000</td>\n",
       "    </tr>\n",
       "  </tbody>\n",
       "</table>\n",
       "</div>"
      ],
      "text/plain": [
       "           BILL_AMT1      BILL_AMT2     BILL_AMT3      BILL_AMT4  \\\n",
       "count   30000.000000   30000.000000  3.000000e+04   30000.000000   \n",
       "mean    51223.330900   49179.075167  4.701315e+04   43262.948967   \n",
       "std     73635.860576   71173.768783  6.934939e+04   64332.856134   \n",
       "min   -165580.000000  -69777.000000 -1.572640e+05 -170000.000000   \n",
       "25%      3558.750000    2984.750000  2.666250e+03    2326.750000   \n",
       "50%     22381.500000   21200.000000  2.008850e+04   19052.000000   \n",
       "75%     67091.000000   64006.250000  6.016475e+04   54506.000000   \n",
       "max    964511.000000  983931.000000  1.664089e+06  891586.000000   \n",
       "\n",
       "           BILL_AMT5      BILL_AMT6  \n",
       "count   30000.000000   30000.000000  \n",
       "mean    40311.400967   38871.760400  \n",
       "std     60797.155770   59554.107537  \n",
       "min    -81334.000000 -339603.000000  \n",
       "25%      1763.000000    1256.000000  \n",
       "50%     18104.500000   17071.000000  \n",
       "75%     50190.500000   49198.250000  \n",
       "max    927171.000000  961664.000000  "
      ]
     },
     "execution_count": 59,
     "metadata": {},
     "output_type": "execute_result"
    }
   ],
   "source": [
    "dataset[['BILL_AMT1','BILL_AMT2','BILL_AMT3','BILL_AMT4','BILL_AMT5','BILL_AMT6']].describe()"
   ]
  },
  {
   "cell_type": "code",
   "execution_count": 60,
   "id": "c353f315",
   "metadata": {},
   "outputs": [
    {
     "data": {
      "image/png": "[encoded data removed]",
      "text/plain": [
       "<Figure size 1080x864 with 6 Axes>"
      ]
     },
     "metadata": {
      "needs_background": "light"
     },
     "output_type": "display_data"
    }
   ],
   "source": [
    "# We will be analysing the features BILL_AMT with various plots\n",
    "bill_amount = ['BILL_AMT1', 'BILL_AMT2', 'BILL_AMT3', 'BILL_AMT4', 'BILL_AMT5', 'BILL_AMT6']\n",
    "plt.figure(figsize=(15,12))\n",
    "for i,col in enumerate(bill_amount):    \n",
    "    plt.subplot(3,2,i + 1)\n",
    "    sns.distplot(dataset.loc[:,col])\n",
    "    plt.ticklabel_format(style='plain', axis='x')   \n",
    "    plt.ylabel('')\n",
    "    plt.tight_layout()\n",
    "plt.show()"
   ]
  },
  {
   "cell_type": "code",
   "execution_count": 61,
   "id": "722cbf48",
   "metadata": {},
   "outputs": [],
   "source": [
    "dataset['BILL_AMT1_bin'] = dataset['BILL_AMT1'].copy()\n",
    "dataset['BILL_AMT2_bin'] = dataset['BILL_AMT2'].copy()\n",
    "dataset['BILL_AMT3_bin'] = dataset['BILL_AMT3'].copy()\n",
    "dataset['BILL_AMT4_bin'] = dataset['BILL_AMT4'].copy()\n",
    "dataset['BILL_AMT5_bin'] = dataset['BILL_AMT5'].copy()\n",
    "dataset['BILL_AMT6_bin'] = dataset['BILL_AMT6'].copy()"
   ]
  },
  {
   "cell_type": "code",
   "execution_count": 62,
   "id": "1729dd39",
   "metadata": {},
   "outputs": [],
   "source": [
    "bill_amtx_bins = ['BILL_AMT1_bin', 'BILL_AMT2_bin', 'BILL_AMT3_bin', 'BILL_AMT4_bin', 'BILL_AMT5_bin', 'BILL_AMT6_bin']\n",
    "\n",
    "for i, col in enumerate (bill_amtx_bins):\n",
    "    dataset[col] = pd.cut(dataset[bill_amount[i]],bins=[-350000,-1,0,25000, 75000, 200000, 2000000],labels=['0<', '=0', '0-25k', '25k-75k', '75k-200k', '>200k'])"
   ]
  },
  {
   "cell_type": "code",
   "execution_count": 63,
   "id": "cbb9fcf0",
   "metadata": {},
   "outputs": [
    {
     "data": {
      "image/png": "[encoded data removed]",
      "text/plain": [
       "<Figure size 1080x864 with 6 Axes>"
      ]
     },
     "metadata": {
      "needs_background": "light"
     },
     "output_type": "display_data"
    }
   ],
   "source": [
    "plt.figure(figsize=(15,12))\n",
    "\n",
    "for i,col in enumerate(bill_amtx_bins):    \n",
    "    plt.subplot(3,2,i + 1)\n",
    "    ax = sns.barplot(x = col, y = \"Default_Prediction\", data = dataset, palette = 'rocket_r', ci = None)\n",
    "    plt.ylabel(\"% of Default\", fontsize= 12)\n",
    "    plt.ylim(0,0.5)\n",
    "    plt.xticks([0,1,2,3,4,5],['0 <', '= 0', '0-25k', '25k-75k', '75k-200k', '>200k'], fontsize = 11)    \n",
    "    plt.tight_layout()\n",
    "    \n",
    "    for p in ax.patches:\n",
    "        ax.annotate(\"%.2f\" %(p.get_height()), (p.get_x()+0.21, p.get_height()+0.03),fontsize=13)\n",
    "\n",
    "plt.show()"
   ]
  },
  {
   "cell_type": "markdown",
   "id": "837317f2",
   "metadata": {},
   "source": [
    "* Those who have a negative bill statement have a lower chance of default than the rest. What stands out is that there is a little higher chance of default for those who didn't have a bill in the previous months."
   ]
  },
  {
   "cell_type": "markdown",
   "id": "d78e2381",
   "metadata": {},
   "source": [
    "#### Checking the correction between BILL_AMTX features"
   ]
  },
  {
   "cell_type": "code",
   "execution_count": 64,
   "id": "338ba235",
   "metadata": {},
   "outputs": [
    {
     "data": {
      "text/plain": [
       "<AxesSubplot:>"
      ]
     },
     "execution_count": 64,
     "metadata": {},
     "output_type": "execute_result"
    },
    {
     "data": {
      "image/png": "[encoded data removed]",
      "text/plain": [
       "<Figure size 720x576 with 2 Axes>"
      ]
     },
     "metadata": {
      "needs_background": "light"
     },
     "output_type": "display_data"
    }
   ],
   "source": [
    "dst = dataset[['BILL_AMT1', 'BILL_AMT2', 'BILL_AMT3', 'BILL_AMT4', 'BILL_AMT5', 'BILL_AMT6']].corr().round(2)\n",
    "plt.figure(figsize=(10,8))\n",
    "sns.heatmap(dst,annot = True)"
   ]
  },
  {
   "cell_type": "markdown",
   "id": "06cfaeb4",
   "metadata": {},
   "source": [
    "* We could see, there is high correlation between the BILL_AMTX features. So, dropping the last 5 BILL_AMT features."
   ]
  },
  {
   "cell_type": "code",
   "execution_count": 65,
   "id": "6a931b7b",
   "metadata": {},
   "outputs": [],
   "source": [
    "dataset=dataset.drop(columns=['BILL_AMT2', 'BILL_AMT3', 'BILL_AMT4', 'BILL_AMT5', 'BILL_AMT6'])"
   ]
  },
  {
   "cell_type": "markdown",
   "id": "30c938c4",
   "metadata": {},
   "source": [
    "### PAY_AMT (1-6)\n",
    "\n",
    "Amount of previous payment in September to April, 2005 (NT dollar)"
   ]
  },
  {
   "cell_type": "code",
   "execution_count": 66,
   "id": "b5f0c0ab",
   "metadata": {},
   "outputs": [
    {
     "data": {
      "text/html": [
       "<div>\n",
       "<style scoped>\n",
       "    .dataframe tbody tr th:only-of-type {\n",
       "        vertical-align: middle;\n",
       "    }\n",
       "\n",
       "    .dataframe tbody tr th {\n",
       "        vertical-align: top;\n",
       "    }\n",
       "\n",
       "    .dataframe thead th {\n",
       "        text-align: right;\n",
       "    }\n",
       "</style>\n",
       "<table border=\"1\" class=\"dataframe\">\n",
       "  <thead>\n",
       "    <tr style=\"text-align: right;\">\n",
       "      <th></th>\n",
       "      <th>PAY_AMT1</th>\n",
       "      <th>PAY_AMT2</th>\n",
       "      <th>PAY_AMT3</th>\n",
       "      <th>PAY_AMT4</th>\n",
       "      <th>PAY_AMT5</th>\n",
       "      <th>PAY_AMT6</th>\n",
       "    </tr>\n",
       "  </thead>\n",
       "  <tbody>\n",
       "    <tr>\n",
       "      <th>count</th>\n",
       "      <td>30000.000000</td>\n",
       "      <td>3.000000e+04</td>\n",
       "      <td>30000.00000</td>\n",
       "      <td>30000.000000</td>\n",
       "      <td>30000.000000</td>\n",
       "      <td>30000.000000</td>\n",
       "    </tr>\n",
       "    <tr>\n",
       "      <th>mean</th>\n",
       "      <td>5663.580500</td>\n",
       "      <td>5.921163e+03</td>\n",
       "      <td>5225.68150</td>\n",
       "      <td>4826.076867</td>\n",
       "      <td>4799.387633</td>\n",
       "      <td>5215.502567</td>\n",
       "    </tr>\n",
       "    <tr>\n",
       "      <th>std</th>\n",
       "      <td>16563.280354</td>\n",
       "      <td>2.304087e+04</td>\n",
       "      <td>17606.96147</td>\n",
       "      <td>15666.159744</td>\n",
       "      <td>15278.305679</td>\n",
       "      <td>17777.465775</td>\n",
       "    </tr>\n",
       "    <tr>\n",
       "      <th>min</th>\n",
       "      <td>0.000000</td>\n",
       "      <td>0.000000e+00</td>\n",
       "      <td>0.00000</td>\n",
       "      <td>0.000000</td>\n",
       "      <td>0.000000</td>\n",
       "      <td>0.000000</td>\n",
       "    </tr>\n",
       "    <tr>\n",
       "      <th>25%</th>\n",
       "      <td>1000.000000</td>\n",
       "      <td>8.330000e+02</td>\n",
       "      <td>390.00000</td>\n",
       "      <td>296.000000</td>\n",
       "      <td>252.500000</td>\n",
       "      <td>117.750000</td>\n",
       "    </tr>\n",
       "    <tr>\n",
       "      <th>50%</th>\n",
       "      <td>2100.000000</td>\n",
       "      <td>2.009000e+03</td>\n",
       "      <td>1800.00000</td>\n",
       "      <td>1500.000000</td>\n",
       "      <td>1500.000000</td>\n",
       "      <td>1500.000000</td>\n",
       "    </tr>\n",
       "    <tr>\n",
       "      <th>75%</th>\n",
       "      <td>5006.000000</td>\n",
       "      <td>5.000000e+03</td>\n",
       "      <td>4505.00000</td>\n",
       "      <td>4013.250000</td>\n",
       "      <td>4031.500000</td>\n",
       "      <td>4000.000000</td>\n",
       "    </tr>\n",
       "    <tr>\n",
       "      <th>max</th>\n",
       "      <td>873552.000000</td>\n",
       "      <td>1.684259e+06</td>\n",
       "      <td>896040.00000</td>\n",
       "      <td>621000.000000</td>\n",
       "      <td>426529.000000</td>\n",
       "      <td>528666.000000</td>\n",
       "    </tr>\n",
       "  </tbody>\n",
       "</table>\n",
       "</div>"
      ],
      "text/plain": [
       "            PAY_AMT1      PAY_AMT2      PAY_AMT3       PAY_AMT4  \\\n",
       "count   30000.000000  3.000000e+04   30000.00000   30000.000000   \n",
       "mean     5663.580500  5.921163e+03    5225.68150    4826.076867   \n",
       "std     16563.280354  2.304087e+04   17606.96147   15666.159744   \n",
       "min         0.000000  0.000000e+00       0.00000       0.000000   \n",
       "25%      1000.000000  8.330000e+02     390.00000     296.000000   \n",
       "50%      2100.000000  2.009000e+03    1800.00000    1500.000000   \n",
       "75%      5006.000000  5.000000e+03    4505.00000    4013.250000   \n",
       "max    873552.000000  1.684259e+06  896040.00000  621000.000000   \n",
       "\n",
       "            PAY_AMT5       PAY_AMT6  \n",
       "count   30000.000000   30000.000000  \n",
       "mean     4799.387633    5215.502567  \n",
       "std     15278.305679   17777.465775  \n",
       "min         0.000000       0.000000  \n",
       "25%       252.500000     117.750000  \n",
       "50%      1500.000000    1500.000000  \n",
       "75%      4031.500000    4000.000000  \n",
       "max    426529.000000  528666.000000  "
      ]
     },
     "execution_count": 66,
     "metadata": {},
     "output_type": "execute_result"
    }
   ],
   "source": [
    "dataset[['PAY_AMT1', 'PAY_AMT2', 'PAY_AMT3', 'PAY_AMT4', 'PAY_AMT5', 'PAY_AMT6']].describe()"
   ]
  },
  {
   "cell_type": "code",
   "execution_count": 67,
   "id": "d8c4e656",
   "metadata": {},
   "outputs": [
    {
     "data": {
      "image/png": "[encoded data removed]",
      "text/plain": [
       "<Figure size 1080x864 with 6 Axes>"
      ]
     },
     "metadata": {
      "needs_background": "light"
     },
     "output_type": "display_data"
    }
   ],
   "source": [
    "pay_amount = ['PAY_AMT1', 'PAY_AMT2', 'PAY_AMT3', 'PAY_AMT4', 'PAY_AMT5', 'PAY_AMT6']\n",
    "plt.figure(figsize=(15,12))\n",
    "for i,col in enumerate(pay_amount):    \n",
    "    plt.subplot(3,2,i + 1)\n",
    "    sns.distplot(dataset.loc[:,col])\n",
    "    plt.ticklabel_format(style='plain', axis='x')\n",
    "    plt.ylabel('')\n",
    "    plt.tight_layout()\n",
    "plt.show()"
   ]
  },
  {
   "cell_type": "code",
   "execution_count": 68,
   "id": "e38aa96e",
   "metadata": {},
   "outputs": [
    {
     "data": {
      "text/plain": [
       "<AxesSubplot:xlabel='PAY_AMT1'>"
      ]
     },
     "execution_count": 68,
     "metadata": {},
     "output_type": "execute_result"
    },
    {
     "data": {
      "image/png": "[encoded data removed]",
      "text/plain": [
       "<Figure size 432x288 with 1 Axes>"
      ]
     },
     "metadata": {
      "needs_background": "light"
     },
     "output_type": "display_data"
    }
   ],
   "source": [
    "sns.boxplot(dataset['PAY_AMT1'])"
   ]
  },
  {
   "cell_type": "code",
   "execution_count": 69,
   "id": "a7100827",
   "metadata": {},
   "outputs": [],
   "source": [
    "dataset['PAY_AMT1_bin'] = dataset['PAY_AMT1'].copy()\n",
    "dataset['PAY_AMT2_bin'] = dataset['PAY_AMT2'].copy()\n",
    "dataset['PAY_AMT3_bin'] = dataset['PAY_AMT3'].copy()\n",
    "dataset['PAY_AMT4_bin'] = dataset['PAY_AMT4'].copy()\n",
    "dataset['PAY_AMT5_bin'] = dataset['PAY_AMT5'].copy()\n",
    "dataset['PAY_AMT6_bin'] = dataset['PAY_AMT6'].copy()"
   ]
  },
  {
   "cell_type": "code",
   "execution_count": 70,
   "id": "b4f207d4",
   "metadata": {},
   "outputs": [],
   "source": [
    "pay_amtx_bins = ['PAY_AMT1_bin', 'PAY_AMT2_bin', 'PAY_AMT3_bin', 'PAY_AMT4_bin', 'PAY_AMT5_bin', 'PAY_AMT6_bin']\n",
    "\n",
    "for i, col in enumerate (pay_amtx_bins):\n",
    "    dataset[col] = pd.cut(dataset[pay_amount[i]],bins=[-1, 0, 25000, 50000, 100000, 2000000],labels=['0<', '0-25k', '25k-50k', '50k-100k', '100k-2000k'])"
   ]
  },
  {
   "cell_type": "code",
   "execution_count": 71,
   "id": "b4118f6d",
   "metadata": {},
   "outputs": [
    {
     "data": {
      "image/png": "[encoded data removed]",
      "text/plain": [
       "<Figure size 1080x864 with 6 Axes>"
      ]
     },
     "metadata": {
      "needs_background": "light"
     },
     "output_type": "display_data"
    }
   ],
   "source": [
    "plt.figure(figsize=(15,12))\n",
    "for i,col in enumerate(pay_amtx_bins):    \n",
    "    plt.subplot(3,2,i + 1)\n",
    "    ax = sns.barplot(x = col, y = \"Default_Prediction\", data = dataset, palette = 'rocket_r', ci = None)\n",
    "    plt.ylabel(\"% of Default\", fontsize= 12)\n",
    "    plt.ylim(0,0.5)\n",
    "    plt.tight_layout()\n",
    "    for p in ax.patches:\n",
    "        ax.annotate(\"%.2f\" %(p.get_height()), (p.get_x()+0.25, p.get_height()+0.03),fontsize=13)\n",
    "plt.show()"
   ]
  },
  {
   "cell_type": "markdown",
   "id": "0800d3fb",
   "metadata": {},
   "source": [
    "* There is a higher default rate among those who paid nothing in previous months and lower rates among those paid over 25k of NT dollars."
   ]
  },
  {
   "cell_type": "markdown",
   "id": "b5d15e56",
   "metadata": {},
   "source": [
    "#### Checking the correlation between PAY_AMTX features"
   ]
  },
  {
   "cell_type": "code",
   "execution_count": 72,
   "id": "76740c01",
   "metadata": {},
   "outputs": [
    {
     "data": {
      "text/plain": [
       "<AxesSubplot:>"
      ]
     },
     "execution_count": 72,
     "metadata": {},
     "output_type": "execute_result"
    },
    {
     "data": {
      "image/png": "[encoded data removed]",
      "text/plain": [
       "<Figure size 720x576 with 2 Axes>"
      ]
     },
     "metadata": {
      "needs_background": "light"
     },
     "output_type": "display_data"
    }
   ],
   "source": [
    "dst = dataset[['PAY_AMT1', 'PAY_AMT2', 'PAY_AMT3', 'PAY_AMT4', 'PAY_AMT5', 'PAY_AMT6']].corr().round(2)\n",
    "plt.figure(figsize=(10,8))\n",
    "sns.heatmap(dst,annot = True)"
   ]
  },
  {
   "cell_type": "markdown",
   "id": "75c7d61d",
   "metadata": {},
   "source": [
    "* Here, we can see there is no correlation between PAY_AMTX features. So, not dropping any columns"
   ]
  },
  {
   "cell_type": "code",
   "execution_count": 73,
   "id": "50a99410",
   "metadata": {},
   "outputs": [
    {
     "data": {
      "text/html": [
       "<div>\n",
       "<style scoped>\n",
       "    .dataframe tbody tr th:only-of-type {\n",
       "        vertical-align: middle;\n",
       "    }\n",
       "\n",
       "    .dataframe tbody tr th {\n",
       "        vertical-align: top;\n",
       "    }\n",
       "\n",
       "    .dataframe thead th {\n",
       "        text-align: right;\n",
       "    }\n",
       "</style>\n",
       "<table border=\"1\" class=\"dataframe\">\n",
       "  <thead>\n",
       "    <tr style=\"text-align: right;\">\n",
       "      <th></th>\n",
       "      <th>LIMIT_BAL</th>\n",
       "      <th>SEX</th>\n",
       "      <th>EDUCATION</th>\n",
       "      <th>MARRIAGE</th>\n",
       "      <th>AGE</th>\n",
       "      <th>PAY_1</th>\n",
       "      <th>PAY_2</th>\n",
       "      <th>PAY_3</th>\n",
       "      <th>PAY_4</th>\n",
       "      <th>PAY_5</th>\n",
       "      <th>PAY_6</th>\n",
       "      <th>BILL_AMT1</th>\n",
       "      <th>PAY_AMT1</th>\n",
       "      <th>PAY_AMT2</th>\n",
       "      <th>PAY_AMT3</th>\n",
       "      <th>PAY_AMT4</th>\n",
       "      <th>PAY_AMT5</th>\n",
       "      <th>PAY_AMT6</th>\n",
       "      <th>Default_Prediction</th>\n",
       "      <th>Limit_bin</th>\n",
       "      <th>Age_bin</th>\n",
       "      <th>BILL_AMT1_bin</th>\n",
       "      <th>BILL_AMT2_bin</th>\n",
       "      <th>BILL_AMT3_bin</th>\n",
       "      <th>BILL_AMT4_bin</th>\n",
       "      <th>BILL_AMT5_bin</th>\n",
       "      <th>BILL_AMT6_bin</th>\n",
       "      <th>PAY_AMT1_bin</th>\n",
       "      <th>PAY_AMT2_bin</th>\n",
       "      <th>PAY_AMT3_bin</th>\n",
       "      <th>PAY_AMT4_bin</th>\n",
       "      <th>PAY_AMT5_bin</th>\n",
       "      <th>PAY_AMT6_bin</th>\n",
       "    </tr>\n",
       "  </thead>\n",
       "  <tbody>\n",
       "    <tr>\n",
       "      <th>0</th>\n",
       "      <td>20000.0</td>\n",
       "      <td>female</td>\n",
       "      <td>university</td>\n",
       "      <td>married</td>\n",
       "      <td>24</td>\n",
       "      <td>2</td>\n",
       "      <td>2</td>\n",
       "      <td>0</td>\n",
       "      <td>0</td>\n",
       "      <td>0</td>\n",
       "      <td>0</td>\n",
       "      <td>3913.0</td>\n",
       "      <td>0.0</td>\n",
       "      <td>689.0</td>\n",
       "      <td>0.0</td>\n",
       "      <td>0.0</td>\n",
       "      <td>0.0</td>\n",
       "      <td>0.0</td>\n",
       "      <td>1</td>\n",
       "      <td>5000-50000</td>\n",
       "      <td>20-25</td>\n",
       "      <td>0-25k</td>\n",
       "      <td>0-25k</td>\n",
       "      <td>0-25k</td>\n",
       "      <td>=0</td>\n",
       "      <td>=0</td>\n",
       "      <td>=0</td>\n",
       "      <td>0&lt;</td>\n",
       "      <td>0-25k</td>\n",
       "      <td>0&lt;</td>\n",
       "      <td>0&lt;</td>\n",
       "      <td>0&lt;</td>\n",
       "      <td>0&lt;</td>\n",
       "    </tr>\n",
       "    <tr>\n",
       "      <th>1</th>\n",
       "      <td>120000.0</td>\n",
       "      <td>female</td>\n",
       "      <td>university</td>\n",
       "      <td>single</td>\n",
       "      <td>26</td>\n",
       "      <td>0</td>\n",
       "      <td>2</td>\n",
       "      <td>0</td>\n",
       "      <td>0</td>\n",
       "      <td>0</td>\n",
       "      <td>2</td>\n",
       "      <td>2682.0</td>\n",
       "      <td>0.0</td>\n",
       "      <td>1000.0</td>\n",
       "      <td>1000.0</td>\n",
       "      <td>1000.0</td>\n",
       "      <td>0.0</td>\n",
       "      <td>2000.0</td>\n",
       "      <td>1</td>\n",
       "      <td>100000-150000</td>\n",
       "      <td>25-30</td>\n",
       "      <td>0-25k</td>\n",
       "      <td>0-25k</td>\n",
       "      <td>0-25k</td>\n",
       "      <td>0-25k</td>\n",
       "      <td>0-25k</td>\n",
       "      <td>0-25k</td>\n",
       "      <td>0&lt;</td>\n",
       "      <td>0-25k</td>\n",
       "      <td>0-25k</td>\n",
       "      <td>0-25k</td>\n",
       "      <td>0&lt;</td>\n",
       "      <td>0-25k</td>\n",
       "    </tr>\n",
       "    <tr>\n",
       "      <th>2</th>\n",
       "      <td>90000.0</td>\n",
       "      <td>female</td>\n",
       "      <td>university</td>\n",
       "      <td>single</td>\n",
       "      <td>34</td>\n",
       "      <td>0</td>\n",
       "      <td>0</td>\n",
       "      <td>0</td>\n",
       "      <td>0</td>\n",
       "      <td>0</td>\n",
       "      <td>0</td>\n",
       "      <td>29239.0</td>\n",
       "      <td>1518.0</td>\n",
       "      <td>1500.0</td>\n",
       "      <td>1000.0</td>\n",
       "      <td>1000.0</td>\n",
       "      <td>1000.0</td>\n",
       "      <td>5000.0</td>\n",
       "      <td>0</td>\n",
       "      <td>50000-100000</td>\n",
       "      <td>30-35</td>\n",
       "      <td>25k-75k</td>\n",
       "      <td>0-25k</td>\n",
       "      <td>0-25k</td>\n",
       "      <td>0-25k</td>\n",
       "      <td>0-25k</td>\n",
       "      <td>0-25k</td>\n",
       "      <td>0-25k</td>\n",
       "      <td>0-25k</td>\n",
       "      <td>0-25k</td>\n",
       "      <td>0-25k</td>\n",
       "      <td>0-25k</td>\n",
       "      <td>0-25k</td>\n",
       "    </tr>\n",
       "    <tr>\n",
       "      <th>3</th>\n",
       "      <td>50000.0</td>\n",
       "      <td>female</td>\n",
       "      <td>university</td>\n",
       "      <td>married</td>\n",
       "      <td>37</td>\n",
       "      <td>0</td>\n",
       "      <td>0</td>\n",
       "      <td>0</td>\n",
       "      <td>0</td>\n",
       "      <td>0</td>\n",
       "      <td>0</td>\n",
       "      <td>46990.0</td>\n",
       "      <td>2000.0</td>\n",
       "      <td>2019.0</td>\n",
       "      <td>1200.0</td>\n",
       "      <td>1100.0</td>\n",
       "      <td>1069.0</td>\n",
       "      <td>1000.0</td>\n",
       "      <td>0</td>\n",
       "      <td>5000-50000</td>\n",
       "      <td>35-40</td>\n",
       "      <td>25k-75k</td>\n",
       "      <td>25k-75k</td>\n",
       "      <td>25k-75k</td>\n",
       "      <td>25k-75k</td>\n",
       "      <td>25k-75k</td>\n",
       "      <td>25k-75k</td>\n",
       "      <td>0-25k</td>\n",
       "      <td>0-25k</td>\n",
       "      <td>0-25k</td>\n",
       "      <td>0-25k</td>\n",
       "      <td>0-25k</td>\n",
       "      <td>0-25k</td>\n",
       "    </tr>\n",
       "    <tr>\n",
       "      <th>4</th>\n",
       "      <td>50000.0</td>\n",
       "      <td>male</td>\n",
       "      <td>university</td>\n",
       "      <td>married</td>\n",
       "      <td>57</td>\n",
       "      <td>0</td>\n",
       "      <td>0</td>\n",
       "      <td>0</td>\n",
       "      <td>0</td>\n",
       "      <td>0</td>\n",
       "      <td>0</td>\n",
       "      <td>8617.0</td>\n",
       "      <td>2000.0</td>\n",
       "      <td>36681.0</td>\n",
       "      <td>10000.0</td>\n",
       "      <td>9000.0</td>\n",
       "      <td>689.0</td>\n",
       "      <td>679.0</td>\n",
       "      <td>0</td>\n",
       "      <td>5000-50000</td>\n",
       "      <td>50-60</td>\n",
       "      <td>0-25k</td>\n",
       "      <td>0-25k</td>\n",
       "      <td>25k-75k</td>\n",
       "      <td>0-25k</td>\n",
       "      <td>0-25k</td>\n",
       "      <td>0-25k</td>\n",
       "      <td>0-25k</td>\n",
       "      <td>25k-50k</td>\n",
       "      <td>0-25k</td>\n",
       "      <td>0-25k</td>\n",
       "      <td>0-25k</td>\n",
       "      <td>0-25k</td>\n",
       "    </tr>\n",
       "  </tbody>\n",
       "</table>\n",
       "</div>"
      ],
      "text/plain": [
       "   LIMIT_BAL     SEX   EDUCATION MARRIAGE  AGE  PAY_1  PAY_2  PAY_3  PAY_4  \\\n",
       "0    20000.0  female  university  married   24      2      2      0      0   \n",
       "1   120000.0  female  university   single   26      0      2      0      0   \n",
       "2    90000.0  female  university   single   34      0      0      0      0   \n",
       "3    50000.0  female  university  married   37      0      0      0      0   \n",
       "4    50000.0    male  university  married   57      0      0      0      0   \n",
       "\n",
       "   PAY_5  PAY_6  BILL_AMT1  PAY_AMT1  PAY_AMT2  PAY_AMT3  PAY_AMT4  PAY_AMT5  \\\n",
       "0      0      0     3913.0       0.0     689.0       0.0       0.0       0.0   \n",
       "1      0      2     2682.0       0.0    1000.0    1000.0    1000.0       0.0   \n",
       "2      0      0    29239.0    1518.0    1500.0    1000.0    1000.0    1000.0   \n",
       "3      0      0    46990.0    2000.0    2019.0    1200.0    1100.0    1069.0   \n",
       "4      0      0     8617.0    2000.0   36681.0   10000.0    9000.0     689.0   \n",
       "\n",
       "   PAY_AMT6  Default_Prediction      Limit_bin Age_bin BILL_AMT1_bin  \\\n",
       "0       0.0                   1     5000-50000   20-25         0-25k   \n",
       "1    2000.0                   1  100000-150000   25-30         0-25k   \n",
       "2    5000.0                   0   50000-100000   30-35       25k-75k   \n",
       "3    1000.0                   0     5000-50000   35-40       25k-75k   \n",
       "4     679.0                   0     5000-50000   50-60         0-25k   \n",
       "\n",
       "  BILL_AMT2_bin BILL_AMT3_bin BILL_AMT4_bin BILL_AMT5_bin BILL_AMT6_bin  \\\n",
       "0         0-25k         0-25k            =0            =0            =0   \n",
       "1         0-25k         0-25k         0-25k         0-25k         0-25k   \n",
       "2         0-25k         0-25k         0-25k         0-25k         0-25k   \n",
       "3       25k-75k       25k-75k       25k-75k       25k-75k       25k-75k   \n",
       "4         0-25k       25k-75k         0-25k         0-25k         0-25k   \n",
       "\n",
       "  PAY_AMT1_bin PAY_AMT2_bin PAY_AMT3_bin PAY_AMT4_bin PAY_AMT5_bin  \\\n",
       "0           0<        0-25k           0<           0<           0<   \n",
       "1           0<        0-25k        0-25k        0-25k           0<   \n",
       "2        0-25k        0-25k        0-25k        0-25k        0-25k   \n",
       "3        0-25k        0-25k        0-25k        0-25k        0-25k   \n",
       "4        0-25k      25k-50k        0-25k        0-25k        0-25k   \n",
       "\n",
       "  PAY_AMT6_bin  \n",
       "0           0<  \n",
       "1        0-25k  \n",
       "2        0-25k  \n",
       "3        0-25k  \n",
       "4        0-25k  "
      ]
     },
     "execution_count": 73,
     "metadata": {},
     "output_type": "execute_result"
    }
   ],
   "source": [
    "dataset.head()"
   ]
  },
  {
   "cell_type": "code",
   "execution_count": 74,
   "id": "a15a12f0",
   "metadata": {},
   "outputs": [
    {
     "data": {
      "text/plain": [
       "<AxesSubplot:>"
      ]
     },
     "execution_count": 74,
     "metadata": {},
     "output_type": "execute_result"
    },
    {
     "data": {
      "image/png": "[encoded data removed]",
      "text/plain": [
       "<Figure size 1440x1080 with 2 Axes>"
      ]
     },
     "metadata": {
      "needs_background": "light"
     },
     "output_type": "display_data"
    }
   ],
   "source": [
    "#Visualizing dataset through heatmap plot\n",
    "dst = dataset.corr().round(2)\n",
    "plt.figure(figsize=(20,15))\n",
    "sns.heatmap(dst, cmap=\"viridis\",annot = True)"
   ]
  },
  {
   "cell_type": "markdown",
   "id": "5072e294",
   "metadata": {},
   "source": [
    "* We are having high correction between the BILL_AMT 6 features. Also, PAY_ 6 features."
   ]
  },
  {
   "cell_type": "code",
   "execution_count": 75,
   "id": "b27518ea",
   "metadata": {},
   "outputs": [],
   "source": [
    "df_new=dataset.copy().drop(['AGE','LIMIT_BAL','BILL_AMT1','PAY_AMT1', 'PAY_AMT2', 'PAY_AMT3', 'PAY_AMT4', 'PAY_AMT5', 'PAY_AMT6'], axis=1)"
   ]
  },
  {
   "cell_type": "code",
   "execution_count": 76,
   "id": "4f43ff04",
   "metadata": {},
   "outputs": [
    {
     "data": {
      "text/html": [
       "<div>\n",
       "<style scoped>\n",
       "    .dataframe tbody tr th:only-of-type {\n",
       "        vertical-align: middle;\n",
       "    }\n",
       "\n",
       "    .dataframe tbody tr th {\n",
       "        vertical-align: top;\n",
       "    }\n",
       "\n",
       "    .dataframe thead th {\n",
       "        text-align: right;\n",
       "    }\n",
       "</style>\n",
       "<table border=\"1\" class=\"dataframe\">\n",
       "  <thead>\n",
       "    <tr style=\"text-align: right;\">\n",
       "      <th></th>\n",
       "      <th>SEX</th>\n",
       "      <th>EDUCATION</th>\n",
       "      <th>MARRIAGE</th>\n",
       "      <th>PAY_1</th>\n",
       "      <th>PAY_2</th>\n",
       "      <th>PAY_3</th>\n",
       "      <th>PAY_4</th>\n",
       "      <th>PAY_5</th>\n",
       "      <th>PAY_6</th>\n",
       "      <th>Default_Prediction</th>\n",
       "      <th>Limit_bin</th>\n",
       "      <th>Age_bin</th>\n",
       "      <th>BILL_AMT1_bin</th>\n",
       "      <th>BILL_AMT2_bin</th>\n",
       "      <th>BILL_AMT3_bin</th>\n",
       "      <th>BILL_AMT4_bin</th>\n",
       "      <th>BILL_AMT5_bin</th>\n",
       "      <th>BILL_AMT6_bin</th>\n",
       "      <th>PAY_AMT1_bin</th>\n",
       "      <th>PAY_AMT2_bin</th>\n",
       "      <th>PAY_AMT3_bin</th>\n",
       "      <th>PAY_AMT4_bin</th>\n",
       "      <th>PAY_AMT5_bin</th>\n",
       "      <th>PAY_AMT6_bin</th>\n",
       "    </tr>\n",
       "  </thead>\n",
       "  <tbody>\n",
       "    <tr>\n",
       "      <th>0</th>\n",
       "      <td>female</td>\n",
       "      <td>university</td>\n",
       "      <td>married</td>\n",
       "      <td>2</td>\n",
       "      <td>2</td>\n",
       "      <td>0</td>\n",
       "      <td>0</td>\n",
       "      <td>0</td>\n",
       "      <td>0</td>\n",
       "      <td>1</td>\n",
       "      <td>5000-50000</td>\n",
       "      <td>20-25</td>\n",
       "      <td>0-25k</td>\n",
       "      <td>0-25k</td>\n",
       "      <td>0-25k</td>\n",
       "      <td>=0</td>\n",
       "      <td>=0</td>\n",
       "      <td>=0</td>\n",
       "      <td>0&lt;</td>\n",
       "      <td>0-25k</td>\n",
       "      <td>0&lt;</td>\n",
       "      <td>0&lt;</td>\n",
       "      <td>0&lt;</td>\n",
       "      <td>0&lt;</td>\n",
       "    </tr>\n",
       "    <tr>\n",
       "      <th>1</th>\n",
       "      <td>female</td>\n",
       "      <td>university</td>\n",
       "      <td>single</td>\n",
       "      <td>0</td>\n",
       "      <td>2</td>\n",
       "      <td>0</td>\n",
       "      <td>0</td>\n",
       "      <td>0</td>\n",
       "      <td>2</td>\n",
       "      <td>1</td>\n",
       "      <td>100000-150000</td>\n",
       "      <td>25-30</td>\n",
       "      <td>0-25k</td>\n",
       "      <td>0-25k</td>\n",
       "      <td>0-25k</td>\n",
       "      <td>0-25k</td>\n",
       "      <td>0-25k</td>\n",
       "      <td>0-25k</td>\n",
       "      <td>0&lt;</td>\n",
       "      <td>0-25k</td>\n",
       "      <td>0-25k</td>\n",
       "      <td>0-25k</td>\n",
       "      <td>0&lt;</td>\n",
       "      <td>0-25k</td>\n",
       "    </tr>\n",
       "    <tr>\n",
       "      <th>2</th>\n",
       "      <td>female</td>\n",
       "      <td>university</td>\n",
       "      <td>single</td>\n",
       "      <td>0</td>\n",
       "      <td>0</td>\n",
       "      <td>0</td>\n",
       "      <td>0</td>\n",
       "      <td>0</td>\n",
       "      <td>0</td>\n",
       "      <td>0</td>\n",
       "      <td>50000-100000</td>\n",
       "      <td>30-35</td>\n",
       "      <td>25k-75k</td>\n",
       "      <td>0-25k</td>\n",
       "      <td>0-25k</td>\n",
       "      <td>0-25k</td>\n",
       "      <td>0-25k</td>\n",
       "      <td>0-25k</td>\n",
       "      <td>0-25k</td>\n",
       "      <td>0-25k</td>\n",
       "      <td>0-25k</td>\n",
       "      <td>0-25k</td>\n",
       "      <td>0-25k</td>\n",
       "      <td>0-25k</td>\n",
       "    </tr>\n",
       "    <tr>\n",
       "      <th>3</th>\n",
       "      <td>female</td>\n",
       "      <td>university</td>\n",
       "      <td>married</td>\n",
       "      <td>0</td>\n",
       "      <td>0</td>\n",
       "      <td>0</td>\n",
       "      <td>0</td>\n",
       "      <td>0</td>\n",
       "      <td>0</td>\n",
       "      <td>0</td>\n",
       "      <td>5000-50000</td>\n",
       "      <td>35-40</td>\n",
       "      <td>25k-75k</td>\n",
       "      <td>25k-75k</td>\n",
       "      <td>25k-75k</td>\n",
       "      <td>25k-75k</td>\n",
       "      <td>25k-75k</td>\n",
       "      <td>25k-75k</td>\n",
       "      <td>0-25k</td>\n",
       "      <td>0-25k</td>\n",
       "      <td>0-25k</td>\n",
       "      <td>0-25k</td>\n",
       "      <td>0-25k</td>\n",
       "      <td>0-25k</td>\n",
       "    </tr>\n",
       "    <tr>\n",
       "      <th>4</th>\n",
       "      <td>male</td>\n",
       "      <td>university</td>\n",
       "      <td>married</td>\n",
       "      <td>0</td>\n",
       "      <td>0</td>\n",
       "      <td>0</td>\n",
       "      <td>0</td>\n",
       "      <td>0</td>\n",
       "      <td>0</td>\n",
       "      <td>0</td>\n",
       "      <td>5000-50000</td>\n",
       "      <td>50-60</td>\n",
       "      <td>0-25k</td>\n",
       "      <td>0-25k</td>\n",
       "      <td>25k-75k</td>\n",
       "      <td>0-25k</td>\n",
       "      <td>0-25k</td>\n",
       "      <td>0-25k</td>\n",
       "      <td>0-25k</td>\n",
       "      <td>25k-50k</td>\n",
       "      <td>0-25k</td>\n",
       "      <td>0-25k</td>\n",
       "      <td>0-25k</td>\n",
       "      <td>0-25k</td>\n",
       "    </tr>\n",
       "  </tbody>\n",
       "</table>\n",
       "</div>"
      ],
      "text/plain": [
       "      SEX   EDUCATION MARRIAGE  PAY_1  PAY_2  PAY_3  PAY_4  PAY_5  PAY_6  \\\n",
       "0  female  university  married      2      2      0      0      0      0   \n",
       "1  female  university   single      0      2      0      0      0      2   \n",
       "2  female  university   single      0      0      0      0      0      0   \n",
       "3  female  university  married      0      0      0      0      0      0   \n",
       "4    male  university  married      0      0      0      0      0      0   \n",
       "\n",
       "   Default_Prediction      Limit_bin Age_bin BILL_AMT1_bin BILL_AMT2_bin  \\\n",
       "0                   1     5000-50000   20-25         0-25k         0-25k   \n",
       "1                   1  100000-150000   25-30         0-25k         0-25k   \n",
       "2                   0   50000-100000   30-35       25k-75k         0-25k   \n",
       "3                   0     5000-50000   35-40       25k-75k       25k-75k   \n",
       "4                   0     5000-50000   50-60         0-25k         0-25k   \n",
       "\n",
       "  BILL_AMT3_bin BILL_AMT4_bin BILL_AMT5_bin BILL_AMT6_bin PAY_AMT1_bin  \\\n",
       "0         0-25k            =0            =0            =0           0<   \n",
       "1         0-25k         0-25k         0-25k         0-25k           0<   \n",
       "2         0-25k         0-25k         0-25k         0-25k        0-25k   \n",
       "3       25k-75k       25k-75k       25k-75k       25k-75k        0-25k   \n",
       "4       25k-75k         0-25k         0-25k         0-25k        0-25k   \n",
       "\n",
       "  PAY_AMT2_bin PAY_AMT3_bin PAY_AMT4_bin PAY_AMT5_bin PAY_AMT6_bin  \n",
       "0        0-25k           0<           0<           0<           0<  \n",
       "1        0-25k        0-25k        0-25k           0<        0-25k  \n",
       "2        0-25k        0-25k        0-25k        0-25k        0-25k  \n",
       "3        0-25k        0-25k        0-25k        0-25k        0-25k  \n",
       "4      25k-50k        0-25k        0-25k        0-25k        0-25k  "
      ]
     },
     "execution_count": 76,
     "metadata": {},
     "output_type": "execute_result"
    }
   ],
   "source": [
    "df_new.head()"
   ]
  },
  {
   "cell_type": "code",
   "execution_count": 77,
   "id": "e220e77f",
   "metadata": {},
   "outputs": [],
   "source": [
    "df_old=dataset.copy().drop(['Age_bin','Limit_bin','BILL_AMT1_bin', 'BILL_AMT2_bin', 'BILL_AMT3_bin', 'BILL_AMT4_bin', 'BILL_AMT5_bin', 'BILL_AMT6_bin','PAY_AMT1_bin', 'PAY_AMT2_bin', 'PAY_AMT3_bin', 'PAY_AMT4_bin', 'PAY_AMT5_bin', 'PAY_AMT6_bin'], axis=1)"
   ]
  },
  {
   "cell_type": "code",
   "execution_count": 78,
   "id": "4c6ab31f",
   "metadata": {},
   "outputs": [
    {
     "data": {
      "text/html": [
       "<div>\n",
       "<style scoped>\n",
       "    .dataframe tbody tr th:only-of-type {\n",
       "        vertical-align: middle;\n",
       "    }\n",
       "\n",
       "    .dataframe tbody tr th {\n",
       "        vertical-align: top;\n",
       "    }\n",
       "\n",
       "    .dataframe thead th {\n",
       "        text-align: right;\n",
       "    }\n",
       "</style>\n",
       "<table border=\"1\" class=\"dataframe\">\n",
       "  <thead>\n",
       "    <tr style=\"text-align: right;\">\n",
       "      <th></th>\n",
       "      <th>LIMIT_BAL</th>\n",
       "      <th>SEX</th>\n",
       "      <th>EDUCATION</th>\n",
       "      <th>MARRIAGE</th>\n",
       "      <th>AGE</th>\n",
       "      <th>PAY_1</th>\n",
       "      <th>PAY_2</th>\n",
       "      <th>PAY_3</th>\n",
       "      <th>PAY_4</th>\n",
       "      <th>PAY_5</th>\n",
       "      <th>PAY_6</th>\n",
       "      <th>BILL_AMT1</th>\n",
       "      <th>PAY_AMT1</th>\n",
       "      <th>PAY_AMT2</th>\n",
       "      <th>PAY_AMT3</th>\n",
       "      <th>PAY_AMT4</th>\n",
       "      <th>PAY_AMT5</th>\n",
       "      <th>PAY_AMT6</th>\n",
       "      <th>Default_Prediction</th>\n",
       "    </tr>\n",
       "  </thead>\n",
       "  <tbody>\n",
       "    <tr>\n",
       "      <th>0</th>\n",
       "      <td>20000.0</td>\n",
       "      <td>female</td>\n",
       "      <td>university</td>\n",
       "      <td>married</td>\n",
       "      <td>24</td>\n",
       "      <td>2</td>\n",
       "      <td>2</td>\n",
       "      <td>0</td>\n",
       "      <td>0</td>\n",
       "      <td>0</td>\n",
       "      <td>0</td>\n",
       "      <td>3913.0</td>\n",
       "      <td>0.0</td>\n",
       "      <td>689.0</td>\n",
       "      <td>0.0</td>\n",
       "      <td>0.0</td>\n",
       "      <td>0.0</td>\n",
       "      <td>0.0</td>\n",
       "      <td>1</td>\n",
       "    </tr>\n",
       "    <tr>\n",
       "      <th>1</th>\n",
       "      <td>120000.0</td>\n",
       "      <td>female</td>\n",
       "      <td>university</td>\n",
       "      <td>single</td>\n",
       "      <td>26</td>\n",
       "      <td>0</td>\n",
       "      <td>2</td>\n",
       "      <td>0</td>\n",
       "      <td>0</td>\n",
       "      <td>0</td>\n",
       "      <td>2</td>\n",
       "      <td>2682.0</td>\n",
       "      <td>0.0</td>\n",
       "      <td>1000.0</td>\n",
       "      <td>1000.0</td>\n",
       "      <td>1000.0</td>\n",
       "      <td>0.0</td>\n",
       "      <td>2000.0</td>\n",
       "      <td>1</td>\n",
       "    </tr>\n",
       "    <tr>\n",
       "      <th>2</th>\n",
       "      <td>90000.0</td>\n",
       "      <td>female</td>\n",
       "      <td>university</td>\n",
       "      <td>single</td>\n",
       "      <td>34</td>\n",
       "      <td>0</td>\n",
       "      <td>0</td>\n",
       "      <td>0</td>\n",
       "      <td>0</td>\n",
       "      <td>0</td>\n",
       "      <td>0</td>\n",
       "      <td>29239.0</td>\n",
       "      <td>1518.0</td>\n",
       "      <td>1500.0</td>\n",
       "      <td>1000.0</td>\n",
       "      <td>1000.0</td>\n",
       "      <td>1000.0</td>\n",
       "      <td>5000.0</td>\n",
       "      <td>0</td>\n",
       "    </tr>\n",
       "    <tr>\n",
       "      <th>3</th>\n",
       "      <td>50000.0</td>\n",
       "      <td>female</td>\n",
       "      <td>university</td>\n",
       "      <td>married</td>\n",
       "      <td>37</td>\n",
       "      <td>0</td>\n",
       "      <td>0</td>\n",
       "      <td>0</td>\n",
       "      <td>0</td>\n",
       "      <td>0</td>\n",
       "      <td>0</td>\n",
       "      <td>46990.0</td>\n",
       "      <td>2000.0</td>\n",
       "      <td>2019.0</td>\n",
       "      <td>1200.0</td>\n",
       "      <td>1100.0</td>\n",
       "      <td>1069.0</td>\n",
       "      <td>1000.0</td>\n",
       "      <td>0</td>\n",
       "    </tr>\n",
       "    <tr>\n",
       "      <th>4</th>\n",
       "      <td>50000.0</td>\n",
       "      <td>male</td>\n",
       "      <td>university</td>\n",
       "      <td>married</td>\n",
       "      <td>57</td>\n",
       "      <td>0</td>\n",
       "      <td>0</td>\n",
       "      <td>0</td>\n",
       "      <td>0</td>\n",
       "      <td>0</td>\n",
       "      <td>0</td>\n",
       "      <td>8617.0</td>\n",
       "      <td>2000.0</td>\n",
       "      <td>36681.0</td>\n",
       "      <td>10000.0</td>\n",
       "      <td>9000.0</td>\n",
       "      <td>689.0</td>\n",
       "      <td>679.0</td>\n",
       "      <td>0</td>\n",
       "    </tr>\n",
       "  </tbody>\n",
       "</table>\n",
       "</div>"
      ],
      "text/plain": [
       "   LIMIT_BAL     SEX   EDUCATION MARRIAGE  AGE  PAY_1  PAY_2  PAY_3  PAY_4  \\\n",
       "0    20000.0  female  university  married   24      2      2      0      0   \n",
       "1   120000.0  female  university   single   26      0      2      0      0   \n",
       "2    90000.0  female  university   single   34      0      0      0      0   \n",
       "3    50000.0  female  university  married   37      0      0      0      0   \n",
       "4    50000.0    male  university  married   57      0      0      0      0   \n",
       "\n",
       "   PAY_5  PAY_6  BILL_AMT1  PAY_AMT1  PAY_AMT2  PAY_AMT3  PAY_AMT4  PAY_AMT5  \\\n",
       "0      0      0     3913.0       0.0     689.0       0.0       0.0       0.0   \n",
       "1      0      2     2682.0       0.0    1000.0    1000.0    1000.0       0.0   \n",
       "2      0      0    29239.0    1518.0    1500.0    1000.0    1000.0    1000.0   \n",
       "3      0      0    46990.0    2000.0    2019.0    1200.0    1100.0    1069.0   \n",
       "4      0      0     8617.0    2000.0   36681.0   10000.0    9000.0     689.0   \n",
       "\n",
       "   PAY_AMT6  Default_Prediction  \n",
       "0       0.0                   1  \n",
       "1    2000.0                   1  \n",
       "2    5000.0                   0  \n",
       "3    1000.0                   0  \n",
       "4     679.0                   0  "
      ]
     },
     "execution_count": 78,
     "metadata": {},
     "output_type": "execute_result"
    }
   ],
   "source": [
    "df_old.head()"
   ]
  },
  {
   "cell_type": "code",
   "execution_count": 79,
   "id": "7718f7ac",
   "metadata": {},
   "outputs": [
    {
     "name": "stdout",
     "output_type": "stream",
     "text": [
      "<class 'pandas.core.frame.DataFrame'>\n",
      "RangeIndex: 30000 entries, 0 to 29999\n",
      "Data columns (total 19 columns):\n",
      " #   Column              Non-Null Count  Dtype  \n",
      "---  ------              --------------  -----  \n",
      " 0   LIMIT_BAL           30000 non-null  float64\n",
      " 1   SEX                 30000 non-null  object \n",
      " 2   EDUCATION           30000 non-null  object \n",
      " 3   MARRIAGE            30000 non-null  object \n",
      " 4   AGE                 30000 non-null  int64  \n",
      " 5   PAY_1               30000 non-null  int64  \n",
      " 6   PAY_2               30000 non-null  int64  \n",
      " 7   PAY_3               30000 non-null  int64  \n",
      " 8   PAY_4               30000 non-null  int64  \n",
      " 9   PAY_5               30000 non-null  int64  \n",
      " 10  PAY_6               30000 non-null  int64  \n",
      " 11  BILL_AMT1           30000 non-null  float64\n",
      " 12  PAY_AMT1            30000 non-null  float64\n",
      " 13  PAY_AMT2            30000 non-null  float64\n",
      " 14  PAY_AMT3            30000 non-null  float64\n",
      " 15  PAY_AMT4            30000 non-null  float64\n",
      " 16  PAY_AMT5            30000 non-null  float64\n",
      " 17  PAY_AMT6            30000 non-null  float64\n",
      " 18  Default_Prediction  30000 non-null  int64  \n",
      "dtypes: float64(8), int64(8), object(3)\n",
      "memory usage: 4.3+ MB\n"
     ]
    }
   ],
   "source": [
    "df_old.info()"
   ]
  },
  {
   "cell_type": "markdown",
   "id": "2bf0703c",
   "metadata": {},
   "source": [
    "* Just we are checking all the scenarios and possibilities of training and evaluating the data with both df_old and df_new"
   ]
  },
  {
   "cell_type": "markdown",
   "id": "013150dd",
   "metadata": {},
   "source": [
    "### df_old"
   ]
  },
  {
   "cell_type": "markdown",
   "id": "344a39b9",
   "metadata": {},
   "source": [
    "* We have Sex, Education and Marriage with object datatype in df_old. So, converting into numerical datatype."
   ]
  },
  {
   "cell_type": "code",
   "execution_count": 80,
   "id": "2377c302",
   "metadata": {},
   "outputs": [],
   "source": [
    "X=df_old.iloc[:,:-1]\n",
    "y=df_old.iloc[:,-1]"
   ]
  },
  {
   "cell_type": "markdown",
   "id": "9693dd2c",
   "metadata": {},
   "source": [
    "### Encoding the categorical features"
   ]
  },
  {
   "cell_type": "code",
   "execution_count": 81,
   "id": "f48657d6",
   "metadata": {},
   "outputs": [],
   "source": [
    "ct=ColumnTransformer(transformers=[('encoder',OneHotEncoder(),[1,2,3])],remainder='passthrough')\n",
    "X=np.array(ct.fit_transform(X))"
   ]
  },
  {
   "cell_type": "code",
   "execution_count": 82,
   "id": "52558f3a",
   "metadata": {},
   "outputs": [
    {
     "data": {
      "text/plain": [
       "array([[1.0000e+00, 0.0000e+00, 0.0000e+00, ..., 0.0000e+00, 0.0000e+00,\n",
       "        0.0000e+00],\n",
       "       [1.0000e+00, 0.0000e+00, 0.0000e+00, ..., 1.0000e+03, 0.0000e+00,\n",
       "        2.0000e+03],\n",
       "       [1.0000e+00, 0.0000e+00, 0.0000e+00, ..., 1.0000e+03, 1.0000e+03,\n",
       "        5.0000e+03],\n",
       "       ...,\n",
       "       [0.0000e+00, 1.0000e+00, 0.0000e+00, ..., 4.2000e+03, 2.0000e+03,\n",
       "        3.1000e+03],\n",
       "       [0.0000e+00, 1.0000e+00, 0.0000e+00, ..., 1.9260e+03, 5.2964e+04,\n",
       "        1.8040e+03],\n",
       "       [0.0000e+00, 1.0000e+00, 0.0000e+00, ..., 1.0000e+03, 1.0000e+03,\n",
       "        1.0000e+03]])"
      ]
     },
     "execution_count": 82,
     "metadata": {},
     "output_type": "execute_result"
    }
   ],
   "source": [
    "X"
   ]
  },
  {
   "cell_type": "code",
   "execution_count": 83,
   "id": "1901a814",
   "metadata": {},
   "outputs": [],
   "source": [
    "y=np.array(y)"
   ]
  },
  {
   "cell_type": "code",
   "execution_count": 84,
   "id": "4bff6b6d",
   "metadata": {},
   "outputs": [
    {
     "data": {
      "text/plain": [
       "array([1, 1, 0, ..., 1, 1, 1], dtype=int64)"
      ]
     },
     "execution_count": 84,
     "metadata": {},
     "output_type": "execute_result"
    }
   ],
   "source": [
    "y"
   ]
  },
  {
   "cell_type": "markdown",
   "id": "70679f1b",
   "metadata": {},
   "source": [
    "## Splitting Dataset into Train and Test set"
   ]
  },
  {
   "cell_type": "code",
   "execution_count": 85,
   "id": "c584353a",
   "metadata": {},
   "outputs": [],
   "source": [
    "X_train,X_test,y_train,y_test=train_test_split(X,y,test_size=0.2,random_state=42)"
   ]
  },
  {
   "cell_type": "code",
   "execution_count": 86,
   "id": "ec9bf76e",
   "metadata": {},
   "outputs": [
    {
     "data": {
      "text/plain": [
       "array([[1.000e+00, 0.000e+00, 0.000e+00, ..., 1.218e+03, 1.445e+03,\n",
       "        8.780e+02],\n",
       "       [0.000e+00, 1.000e+00, 0.000e+00, ..., 9.550e+02, 0.000e+00,\n",
       "        0.000e+00],\n",
       "       [1.000e+00, 0.000e+00, 0.000e+00, ..., 6.881e+03, 1.034e+04,\n",
       "        1.820e+02],\n",
       "       ...,\n",
       "       [0.000e+00, 1.000e+00, 1.000e+00, ..., 0.000e+00, 0.000e+00,\n",
       "        0.000e+00],\n",
       "       [1.000e+00, 0.000e+00, 0.000e+00, ..., 1.200e+03, 0.000e+00,\n",
       "        1.200e+03],\n",
       "       [1.000e+00, 0.000e+00, 0.000e+00, ..., 1.650e+03, 1.420e+04,\n",
       "        1.500e+03]])"
      ]
     },
     "execution_count": 86,
     "metadata": {},
     "output_type": "execute_result"
    }
   ],
   "source": [
    "X_train"
   ]
  },
  {
   "cell_type": "code",
   "execution_count": 87,
   "id": "08bcc2d1",
   "metadata": {},
   "outputs": [
    {
     "data": {
      "text/plain": [
       "array([0, 0, 0, ..., 0, 1, 1], dtype=int64)"
      ]
     },
     "execution_count": 87,
     "metadata": {},
     "output_type": "execute_result"
    }
   ],
   "source": [
    "y_train"
   ]
  },
  {
   "cell_type": "code",
   "execution_count": 88,
   "id": "6633c531",
   "metadata": {},
   "outputs": [
    {
     "data": {
      "text/html": [
       "<style>#sk-container-id-1 {color: black;background-color: white;}#sk-container-id-1 pre{padding: 0;}#sk-container-id-1 div.sk-toggleable {background-color: white;}#sk-container-id-1 label.sk-toggleable__label {cursor: pointer;display: block;width: 100%;margin-bottom: 0;padding: 0.3em;box-sizing: border-box;text-align: center;}#sk-container-id-1 label.sk-toggleable__label-arrow:before {content: \"▸\";float: left;margin-right: 0.25em;color: #696969;}#sk-container-id-1 label.sk-toggleable__label-arrow:hover:before {color: black;}#sk-container-id-1 div.sk-estimator:hover label.sk-toggleable__label-arrow:before {color: black;}#sk-container-id-1 div.sk-toggleable__content {max-height: 0;max-width: 0;overflow: hidden;text-align: left;background-color: #f0f8ff;}#sk-container-id-1 div.sk-toggleable__content pre {margin: 0.2em;color: black;border-radius: 0.25em;background-color: #f0f8ff;}#sk-container-id-1 input.sk-toggleable__control:checked~div.sk-toggleable__content {max-height: 200px;max-width: 100%;overflow: auto;}#sk-container-id-1 input.sk-toggleable__control:checked~label.sk-toggleable__label-arrow:before {content: \"▾\";}#sk-container-id-1 div.sk-estimator input.sk-toggleable__control:checked~label.sk-toggleable__label {background-color: #d4ebff;}#sk-container-id-1 div.sk-label input.sk-toggleable__control:checked~label.sk-toggleable__label {background-color: #d4ebff;}#sk-container-id-1 input.sk-hidden--visually {border: 0;clip: rect(1px 1px 1px 1px);clip: rect(1px, 1px, 1px, 1px);height: 1px;margin: -1px;overflow: hidden;padding: 0;position: absolute;width: 1px;}#sk-container-id-1 div.sk-estimator {font-family: monospace;background-color: #f0f8ff;border: 1px dotted black;border-radius: 0.25em;box-sizing: border-box;margin-bottom: 0.5em;}#sk-container-id-1 div.sk-estimator:hover {background-color: #d4ebff;}#sk-container-id-1 div.sk-parallel-item::after {content: \"\";width: 100%;border-bottom: 1px solid gray;flex-grow: 1;}#sk-container-id-1 div.sk-label:hover label.sk-toggleable__label {background-color: #d4ebff;}#sk-container-id-1 div.sk-serial::before {content: \"\";position: absolute;border-left: 1px solid gray;box-sizing: border-box;top: 0;bottom: 0;left: 50%;z-index: 0;}#sk-container-id-1 div.sk-serial {display: flex;flex-direction: column;align-items: center;background-color: white;padding-right: 0.2em;padding-left: 0.2em;position: relative;}#sk-container-id-1 div.sk-item {position: relative;z-index: 1;}#sk-container-id-1 div.sk-parallel {display: flex;align-items: stretch;justify-content: center;background-color: white;position: relative;}#sk-container-id-1 div.sk-item::before, #sk-container-id-1 div.sk-parallel-item::before {content: \"\";position: absolute;border-left: 1px solid gray;box-sizing: border-box;top: 0;bottom: 0;left: 50%;z-index: -1;}#sk-container-id-1 div.sk-parallel-item {display: flex;flex-direction: column;z-index: 1;position: relative;background-color: white;}#sk-container-id-1 div.sk-parallel-item:first-child::after {align-self: flex-end;width: 50%;}#sk-container-id-1 div.sk-parallel-item:last-child::after {align-self: flex-start;width: 50%;}#sk-container-id-1 div.sk-parallel-item:only-child::after {width: 0;}#sk-container-id-1 div.sk-dashed-wrapped {border: 1px dashed gray;margin: 0 0.4em 0.5em 0.4em;box-sizing: border-box;padding-bottom: 0.4em;background-color: white;}#sk-container-id-1 div.sk-label label {font-family: monospace;font-weight: bold;display: inline-block;line-height: 1.2em;}#sk-container-id-1 div.sk-label-container {text-align: center;}#sk-container-id-1 div.sk-container {/* jupyter's `normalize.less` sets `[hidden] { display: none; }` but bootstrap.min.css set `[hidden] { display: none !important; }` so we also need the `!important` here to be able to override the default hidden behavior on the sphinx rendered scikit-learn.org. See: https://github.com/scikit-learn/scikit-learn/issues/21755 */display: inline-block !important;position: relative;}#sk-container-id-1 div.sk-text-repr-fallback {display: none;}</style><div id=\"sk-container-id-1\" class=\"sk-top-container\"><div class=\"sk-text-repr-fallback\"><pre>LogisticRegression()</pre><b>In a Jupyter environment, please rerun this cell to show the HTML representation or trust the notebook. <br />On GitHub, the HTML representation is unable to render, please try loading this page with nbviewer.org.</b></div><div class=\"sk-container\" hidden><div class=\"sk-item\"><div class=\"sk-estimator sk-toggleable\"><input class=\"sk-toggleable__control sk-hidden--visually\" id=\"sk-estimator-id-1\" type=\"checkbox\" checked><label for=\"sk-estimator-id-1\" class=\"sk-toggleable__label sk-toggleable__label-arrow\">LogisticRegression</label><div class=\"sk-toggleable__content\"><pre>LogisticRegression()</pre></div></div></div></div></div>"
      ],
      "text/plain": [
       "LogisticRegression()"
      ]
     },
     "execution_count": 88,
     "metadata": {},
     "output_type": "execute_result"
    }
   ],
   "source": [
    "linreg=LogisticRegression()\n",
    "linreg.fit(X_train,y_train)"
   ]
  },
  {
   "cell_type": "code",
   "execution_count": 89,
   "id": "ee88b0ce",
   "metadata": {},
   "outputs": [],
   "source": [
    "y_pred=linreg.predict(X_test)"
   ]
  },
  {
   "cell_type": "code",
   "execution_count": 90,
   "id": "33146613",
   "metadata": {},
   "outputs": [
    {
     "name": "stdout",
     "output_type": "stream",
     "text": [
      "Accuracy 0.7811666666666667\n",
      "              precision    recall  f1-score   support\n",
      "\n",
      "           0       0.78      1.00      0.88      4687\n",
      "           1       0.00      0.00      0.00      1313\n",
      "\n",
      "    accuracy                           0.78      6000\n",
      "   macro avg       0.39      0.50      0.44      6000\n",
      "weighted avg       0.61      0.78      0.69      6000\n",
      "\n",
      "F1-score 0.0\n",
      "Confusion matrix\n",
      " [[4687    0]\n",
      " [1313    0]]\n"
     ]
    }
   ],
   "source": [
    "print(\"Accuracy\",accuracy_score(y_test,y_pred))\n",
    "print(classification_report(y_test,y_pred))\n",
    "print(\"F1-score\",f1_score(y_test,y_pred))\n",
    "print(\"Confusion matrix\\n\",confusion_matrix(y_test,y_pred))"
   ]
  },
  {
   "cell_type": "markdown",
   "id": "57f96767",
   "metadata": {},
   "source": [
    "* We got some idea right, since our dataset is imbalnced. Our model predicting only majority type(non defaulters)."
   ]
  },
  {
   "cell_type": "code",
   "execution_count": 91,
   "id": "e606fe1b",
   "metadata": {},
   "outputs": [
    {
     "data": {
      "text/html": [
       "<style>#sk-container-id-2 {color: black;background-color: white;}#sk-container-id-2 pre{padding: 0;}#sk-container-id-2 div.sk-toggleable {background-color: white;}#sk-container-id-2 label.sk-toggleable__label {cursor: pointer;display: block;width: 100%;margin-bottom: 0;padding: 0.3em;box-sizing: border-box;text-align: center;}#sk-container-id-2 label.sk-toggleable__label-arrow:before {content: \"▸\";float: left;margin-right: 0.25em;color: #696969;}#sk-container-id-2 label.sk-toggleable__label-arrow:hover:before {color: black;}#sk-container-id-2 div.sk-estimator:hover label.sk-toggleable__label-arrow:before {color: black;}#sk-container-id-2 div.sk-toggleable__content {max-height: 0;max-width: 0;overflow: hidden;text-align: left;background-color: #f0f8ff;}#sk-container-id-2 div.sk-toggleable__content pre {margin: 0.2em;color: black;border-radius: 0.25em;background-color: #f0f8ff;}#sk-container-id-2 input.sk-toggleable__control:checked~div.sk-toggleable__content {max-height: 200px;max-width: 100%;overflow: auto;}#sk-container-id-2 input.sk-toggleable__control:checked~label.sk-toggleable__label-arrow:before {content: \"▾\";}#sk-container-id-2 div.sk-estimator input.sk-toggleable__control:checked~label.sk-toggleable__label {background-color: #d4ebff;}#sk-container-id-2 div.sk-label input.sk-toggleable__control:checked~label.sk-toggleable__label {background-color: #d4ebff;}#sk-container-id-2 input.sk-hidden--visually {border: 0;clip: rect(1px 1px 1px 1px);clip: rect(1px, 1px, 1px, 1px);height: 1px;margin: -1px;overflow: hidden;padding: 0;position: absolute;width: 1px;}#sk-container-id-2 div.sk-estimator {font-family: monospace;background-color: #f0f8ff;border: 1px dotted black;border-radius: 0.25em;box-sizing: border-box;margin-bottom: 0.5em;}#sk-container-id-2 div.sk-estimator:hover {background-color: #d4ebff;}#sk-container-id-2 div.sk-parallel-item::after {content: \"\";width: 100%;border-bottom: 1px solid gray;flex-grow: 1;}#sk-container-id-2 div.sk-label:hover label.sk-toggleable__label {background-color: #d4ebff;}#sk-container-id-2 div.sk-serial::before {content: \"\";position: absolute;border-left: 1px solid gray;box-sizing: border-box;top: 0;bottom: 0;left: 50%;z-index: 0;}#sk-container-id-2 div.sk-serial {display: flex;flex-direction: column;align-items: center;background-color: white;padding-right: 0.2em;padding-left: 0.2em;position: relative;}#sk-container-id-2 div.sk-item {position: relative;z-index: 1;}#sk-container-id-2 div.sk-parallel {display: flex;align-items: stretch;justify-content: center;background-color: white;position: relative;}#sk-container-id-2 div.sk-item::before, #sk-container-id-2 div.sk-parallel-item::before {content: \"\";position: absolute;border-left: 1px solid gray;box-sizing: border-box;top: 0;bottom: 0;left: 50%;z-index: -1;}#sk-container-id-2 div.sk-parallel-item {display: flex;flex-direction: column;z-index: 1;position: relative;background-color: white;}#sk-container-id-2 div.sk-parallel-item:first-child::after {align-self: flex-end;width: 50%;}#sk-container-id-2 div.sk-parallel-item:last-child::after {align-self: flex-start;width: 50%;}#sk-container-id-2 div.sk-parallel-item:only-child::after {width: 0;}#sk-container-id-2 div.sk-dashed-wrapped {border: 1px dashed gray;margin: 0 0.4em 0.5em 0.4em;box-sizing: border-box;padding-bottom: 0.4em;background-color: white;}#sk-container-id-2 div.sk-label label {font-family: monospace;font-weight: bold;display: inline-block;line-height: 1.2em;}#sk-container-id-2 div.sk-label-container {text-align: center;}#sk-container-id-2 div.sk-container {/* jupyter's `normalize.less` sets `[hidden] { display: none; }` but bootstrap.min.css set `[hidden] { display: none !important; }` so we also need the `!important` here to be able to override the default hidden behavior on the sphinx rendered scikit-learn.org. See: https://github.com/scikit-learn/scikit-learn/issues/21755 */display: inline-block !important;position: relative;}#sk-container-id-2 div.sk-text-repr-fallback {display: none;}</style><div id=\"sk-container-id-2\" class=\"sk-top-container\"><div class=\"sk-text-repr-fallback\"><pre>RandomForestClassifier(criterion=&#x27;entropy&#x27;)</pre><b>In a Jupyter environment, please rerun this cell to show the HTML representation or trust the notebook. <br />On GitHub, the HTML representation is unable to render, please try loading this page with nbviewer.org.</b></div><div class=\"sk-container\" hidden><div class=\"sk-item\"><div class=\"sk-estimator sk-toggleable\"><input class=\"sk-toggleable__control sk-hidden--visually\" id=\"sk-estimator-id-2\" type=\"checkbox\" checked><label for=\"sk-estimator-id-2\" class=\"sk-toggleable__label sk-toggleable__label-arrow\">RandomForestClassifier</label><div class=\"sk-toggleable__content\"><pre>RandomForestClassifier(criterion=&#x27;entropy&#x27;)</pre></div></div></div></div></div>"
      ],
      "text/plain": [
       "RandomForestClassifier(criterion='entropy')"
      ]
     },
     "execution_count": 91,
     "metadata": {},
     "output_type": "execute_result"
    }
   ],
   "source": [
    "# lets just try with RandomForest Classifier\n",
    "randomf=RandomForestClassifier(n_estimators=100,criterion='entropy')\n",
    "randomf.fit(X_train,y_train)"
   ]
  },
  {
   "cell_type": "code",
   "execution_count": 92,
   "id": "257b2e7b",
   "metadata": {},
   "outputs": [],
   "source": [
    "y_pred1=randomf.predict(X_test)"
   ]
  },
  {
   "cell_type": "code",
   "execution_count": 93,
   "id": "7e122a79",
   "metadata": {},
   "outputs": [
    {
     "name": "stdout",
     "output_type": "stream",
     "text": [
      "Accuracy 0.8175\n",
      "              precision    recall  f1-score   support\n",
      "\n",
      "           0       0.84      0.94      0.89      4687\n",
      "           1       0.65      0.37      0.47      1313\n",
      "\n",
      "    accuracy                           0.82      6000\n",
      "   macro avg       0.74      0.66      0.68      6000\n",
      "weighted avg       0.80      0.82      0.80      6000\n",
      "\n",
      "F1-score 0.4692195831313621\n",
      "Confusion matrix\n",
      " [[4421  266]\n",
      " [ 829  484]]\n"
     ]
    }
   ],
   "source": [
    "print(\"Accuracy\",accuracy_score(y_test,y_pred1))\n",
    "print(classification_report(y_test,y_pred1))\n",
    "print(\"F1-score\",f1_score(y_test,y_pred1))\n",
    "print(\"Confusion matrix\\n\",confusion_matrix(y_test,y_pred1))"
   ]
  },
  {
   "cell_type": "markdown",
   "id": "8f3c6095",
   "metadata": {},
   "source": [
    "* We got some better improvement in the performance of the model right. Not-bad"
   ]
  },
  {
   "cell_type": "markdown",
   "id": "e5bef3a8",
   "metadata": {},
   "source": [
    "#### Now, we got ideas, what to do for increasing the performance of the model right.. We will list those things.."
   ]
  },
  {
   "cell_type": "markdown",
   "id": "4e572fb0",
   "metadata": {},
   "source": [
    "We have to do,\n",
    "1. Feature Scaling\n",
    "2. Balance the dataset (Sampling techniques)\n",
    "3. Feature selection\n",
    "4. Hyper-parameter tuning for finding best model and parameters"
   ]
  },
  {
   "cell_type": "markdown",
   "id": "ec119f7a",
   "metadata": {},
   "source": [
    "We will train the model with df_new with the same procedure and let's see we can make any observations..\n",
    "\n",
    "Then after, we will follow the above steps to make our model performance better."
   ]
  },
  {
   "cell_type": "markdown",
   "id": "77e3956f",
   "metadata": {},
   "source": [
    "### df_new"
   ]
  },
  {
   "cell_type": "code",
   "execution_count": 94,
   "id": "460a1395",
   "metadata": {},
   "outputs": [],
   "source": [
    "X = df_new.copy().drop('Default_Prediction', axis = 1)\n",
    "y=df_new['Default_Prediction']"
   ]
  },
  {
   "cell_type": "code",
   "execution_count": 95,
   "id": "345ddfa6",
   "metadata": {},
   "outputs": [
    {
     "name": "stdout",
     "output_type": "stream",
     "text": [
      "<class 'pandas.core.frame.DataFrame'>\n",
      "RangeIndex: 30000 entries, 0 to 29999\n",
      "Data columns (total 23 columns):\n",
      " #   Column         Non-Null Count  Dtype   \n",
      "---  ------         --------------  -----   \n",
      " 0   SEX            30000 non-null  object  \n",
      " 1   EDUCATION      30000 non-null  object  \n",
      " 2   MARRIAGE       30000 non-null  object  \n",
      " 3   PAY_1          30000 non-null  int64   \n",
      " 4   PAY_2          30000 non-null  int64   \n",
      " 5   PAY_3          30000 non-null  int64   \n",
      " 6   PAY_4          30000 non-null  int64   \n",
      " 7   PAY_5          30000 non-null  int64   \n",
      " 8   PAY_6          30000 non-null  int64   \n",
      " 9   Limit_bin      30000 non-null  category\n",
      " 10  Age_bin        30000 non-null  category\n",
      " 11  BILL_AMT1_bin  30000 non-null  category\n",
      " 12  BILL_AMT2_bin  30000 non-null  category\n",
      " 13  BILL_AMT3_bin  30000 non-null  category\n",
      " 14  BILL_AMT4_bin  30000 non-null  category\n",
      " 15  BILL_AMT5_bin  30000 non-null  category\n",
      " 16  BILL_AMT6_bin  30000 non-null  category\n",
      " 17  PAY_AMT1_bin   30000 non-null  category\n",
      " 18  PAY_AMT2_bin   30000 non-null  category\n",
      " 19  PAY_AMT3_bin   30000 non-null  category\n",
      " 20  PAY_AMT4_bin   30000 non-null  category\n",
      " 21  PAY_AMT5_bin   30000 non-null  category\n",
      " 22  PAY_AMT6_bin   30000 non-null  category\n",
      "dtypes: category(14), int64(6), object(3)\n",
      "memory usage: 2.5+ MB\n"
     ]
    }
   ],
   "source": [
    "X.info()"
   ]
  },
  {
   "cell_type": "code",
   "execution_count": 96,
   "id": "5753395f",
   "metadata": {},
   "outputs": [
    {
     "data": {
      "text/plain": [
       "0        1\n",
       "1        1\n",
       "2        0\n",
       "3        0\n",
       "4        0\n",
       "        ..\n",
       "29995    0\n",
       "29996    0\n",
       "29997    1\n",
       "29998    1\n",
       "29999    1\n",
       "Name: Default_Prediction, Length: 30000, dtype: int64"
      ]
     },
     "execution_count": 96,
     "metadata": {},
     "output_type": "execute_result"
    }
   ],
   "source": [
    "y"
   ]
  },
  {
   "cell_type": "code",
   "execution_count": 97,
   "id": "0837059a",
   "metadata": {},
   "outputs": [
    {
     "name": "stdout",
     "output_type": "stream",
     "text": [
      "['PAY_AMT1_bin', 'PAY_AMT2_bin', 'PAY_AMT3_bin', 'PAY_AMT4_bin', 'PAY_AMT5_bin', 'PAY_AMT6_bin']\n",
      "0              0<\n",
      "1              0<\n",
      "2           0-25k\n",
      "3           0-25k\n",
      "4           0-25k\n",
      "           ...   \n",
      "29995       0-25k\n",
      "29996       0-25k\n",
      "29997          0<\n",
      "29998    50k-100k\n",
      "29999       0-25k\n",
      "Name: PAY_AMT1_bin, Length: 30000, dtype: category\n",
      "Categories (5, object): ['0<' < '0-25k' < '25k-50k' < '50k-100k' < '100k-2000k']\n",
      "0          0-25k\n",
      "1          0-25k\n",
      "2          0-25k\n",
      "3          0-25k\n",
      "4        25k-50k\n",
      "          ...   \n",
      "29995      0-25k\n",
      "29996      0-25k\n",
      "29997         0<\n",
      "29998      0-25k\n",
      "29999      0-25k\n",
      "Name: PAY_AMT2_bin, Length: 30000, dtype: category\n",
      "Categories (5, object): ['0<' < '0-25k' < '25k-50k' < '50k-100k' < '100k-2000k']\n",
      "0           0<\n",
      "1        0-25k\n",
      "2        0-25k\n",
      "3        0-25k\n",
      "4        0-25k\n",
      "         ...  \n",
      "29995    0-25k\n",
      "29996    0-25k\n",
      "29997    0-25k\n",
      "29998    0-25k\n",
      "29999    0-25k\n",
      "Name: PAY_AMT3_bin, Length: 30000, dtype: category\n",
      "Categories (5, object): ['0<' < '0-25k' < '25k-50k' < '50k-100k' < '100k-2000k']\n",
      "0           0<\n",
      "1        0-25k\n",
      "2        0-25k\n",
      "3        0-25k\n",
      "4        0-25k\n",
      "         ...  \n",
      "29995    0-25k\n",
      "29996    0-25k\n",
      "29997    0-25k\n",
      "29998    0-25k\n",
      "29999    0-25k\n",
      "Name: PAY_AMT4_bin, Length: 30000, dtype: category\n",
      "Categories (5, object): ['0<' < '0-25k' < '25k-50k' < '50k-100k' < '100k-2000k']\n",
      "0              0<\n",
      "1              0<\n",
      "2           0-25k\n",
      "3           0-25k\n",
      "4           0-25k\n",
      "           ...   \n",
      "29995       0-25k\n",
      "29996          0<\n",
      "29997       0-25k\n",
      "29998    50k-100k\n",
      "29999       0-25k\n",
      "Name: PAY_AMT5_bin, Length: 30000, dtype: category\n",
      "Categories (5, object): ['0<' < '0-25k' < '25k-50k' < '50k-100k' < '100k-2000k']\n",
      "0           0<\n",
      "1        0-25k\n",
      "2        0-25k\n",
      "3        0-25k\n",
      "4        0-25k\n",
      "         ...  \n",
      "29995    0-25k\n",
      "29996       0<\n",
      "29997    0-25k\n",
      "29998    0-25k\n",
      "29999    0-25k\n",
      "Name: PAY_AMT6_bin, Length: 30000, dtype: category\n",
      "Categories (5, object): ['0<' < '0-25k' < '25k-50k' < '50k-100k' < '100k-2000k']\n"
     ]
    }
   ],
   "source": [
    "le = LabelEncoder()\n",
    "print(pay_amtx_bins)\n",
    "for col in pay_amtx_bins:\n",
    "    print(X[col])\n",
    "    X[col] = le.fit_transform(X[col])\n",
    "for col in bill_amtx_bins:\n",
    "    X[col]=le.fit_transform(X[col])\n",
    "X['Limit_bin']=le.fit_transform(X['Limit_bin'])\n",
    "X['Age_bin']=le.fit_transform(X['Age_bin'])"
   ]
  },
  {
   "cell_type": "code",
   "execution_count": 98,
   "id": "97558fb3",
   "metadata": {},
   "outputs": [],
   "source": [
    "ct=ColumnTransformer(transformers=[('encoder',OneHotEncoder(),[0,1,2])],remainder='passthrough')\n",
    "X=np.array(ct.fit_transform(X))"
   ]
  },
  {
   "cell_type": "code",
   "execution_count": 99,
   "id": "aca4dfe8",
   "metadata": {},
   "outputs": [
    {
     "data": {
      "text/plain": [
       "array([[1., 0., 0., ..., 1., 1., 1.],\n",
       "       [1., 0., 0., ..., 0., 1., 0.],\n",
       "       [1., 0., 0., ..., 0., 0., 0.],\n",
       "       ...,\n",
       "       [0., 1., 0., ..., 0., 0., 0.],\n",
       "       [0., 1., 0., ..., 0., 4., 0.],\n",
       "       [0., 1., 0., ..., 0., 0., 0.]])"
      ]
     },
     "execution_count": 99,
     "metadata": {},
     "output_type": "execute_result"
    }
   ],
   "source": [
    "X"
   ]
  },
  {
   "cell_type": "code",
   "execution_count": 100,
   "id": "aeb331e0",
   "metadata": {},
   "outputs": [],
   "source": [
    "X_train,X_test,y_train,y_test=train_test_split(X,y,test_size=0.2,random_state=42)"
   ]
  },
  {
   "cell_type": "code",
   "execution_count": 101,
   "id": "cde6bb33",
   "metadata": {},
   "outputs": [
    {
     "data": {
      "text/plain": [
       "array([0., 1., 0., 0., 0., 1., 0., 0., 1., 0., 0., 0., 0., 0., 0., 5., 1.,\n",
       "       2., 2., 2., 2., 0., 4., 0., 0., 0., 0., 1., 1.])"
      ]
     },
     "execution_count": 101,
     "metadata": {},
     "output_type": "execute_result"
    }
   ],
   "source": [
    "X_train[1]"
   ]
  },
  {
   "cell_type": "code",
   "execution_count": 102,
   "id": "76c7c393",
   "metadata": {},
   "outputs": [],
   "source": [
    "randomf=RandomForestClassifier(n_estimators=100,criterion='entropy')\n",
    "randomf.fit(X_train,y_train)\n",
    "y_pred1=randomf.predict(X_test)"
   ]
  },
  {
   "cell_type": "code",
   "execution_count": 103,
   "id": "809422d3",
   "metadata": {},
   "outputs": [
    {
     "name": "stdout",
     "output_type": "stream",
     "text": [
      "Accuracy 0.7971666666666667\n",
      "              precision    recall  f1-score   support\n",
      "\n",
      "           0       0.84      0.92      0.88      4687\n",
      "           1       0.56      0.36      0.44      1313\n",
      "\n",
      "    accuracy                           0.80      6000\n",
      "   macro avg       0.70      0.64      0.66      6000\n",
      "weighted avg       0.78      0.80      0.78      6000\n",
      "\n",
      "F1-score 0.4389119409866298\n",
      "Confusion matrix\n",
      " [[4307  380]\n",
      " [ 837  476]]\n"
     ]
    }
   ],
   "source": [
    "print(\"Accuracy\",accuracy_score(y_test,y_pred1))\n",
    "print(classification_report(y_test,y_pred1))\n",
    "print(\"F1-score\",f1_score(y_test,y_pred1))\n",
    "print(\"Confusion matrix\\n\",confusion_matrix(y_test,y_pred1))"
   ]
  },
  {
   "cell_type": "markdown",
   "id": "bd1a63a6",
   "metadata": {},
   "source": [
    "* Comparing with df_old and df_new, we got best performance with the dataset df_old. So, as we mentioned before we will be performing some operations to dataset df_old to improve our model performance."
   ]
  },
  {
   "cell_type": "code",
   "execution_count": 104,
   "id": "75261310",
   "metadata": {},
   "outputs": [
    {
     "name": "stdout",
     "output_type": "stream",
     "text": [
      "<class 'pandas.core.frame.DataFrame'>\n",
      "RangeIndex: 30000 entries, 0 to 29999\n",
      "Data columns (total 19 columns):\n",
      " #   Column              Non-Null Count  Dtype  \n",
      "---  ------              --------------  -----  \n",
      " 0   LIMIT_BAL           30000 non-null  float64\n",
      " 1   SEX                 30000 non-null  object \n",
      " 2   EDUCATION           30000 non-null  object \n",
      " 3   MARRIAGE            30000 non-null  object \n",
      " 4   AGE                 30000 non-null  int64  \n",
      " 5   PAY_1               30000 non-null  int64  \n",
      " 6   PAY_2               30000 non-null  int64  \n",
      " 7   PAY_3               30000 non-null  int64  \n",
      " 8   PAY_4               30000 non-null  int64  \n",
      " 9   PAY_5               30000 non-null  int64  \n",
      " 10  PAY_6               30000 non-null  int64  \n",
      " 11  BILL_AMT1           30000 non-null  float64\n",
      " 12  PAY_AMT1            30000 non-null  float64\n",
      " 13  PAY_AMT2            30000 non-null  float64\n",
      " 14  PAY_AMT3            30000 non-null  float64\n",
      " 15  PAY_AMT4            30000 non-null  float64\n",
      " 16  PAY_AMT5            30000 non-null  float64\n",
      " 17  PAY_AMT6            30000 non-null  float64\n",
      " 18  Default_Prediction  30000 non-null  int64  \n",
      "dtypes: float64(8), int64(8), object(3)\n",
      "memory usage: 4.3+ MB\n"
     ]
    }
   ],
   "source": [
    "df_old.info()"
   ]
  },
  {
   "cell_type": "code",
   "execution_count": 105,
   "id": "0ff1225c",
   "metadata": {},
   "outputs": [],
   "source": [
    "X=df_old.iloc[:,:-1]\n",
    "y=df_old.iloc[:,-1]"
   ]
  },
  {
   "cell_type": "markdown",
   "id": "09f635ea",
   "metadata": {},
   "source": [
    "### Encoding Categorical Data"
   ]
  },
  {
   "cell_type": "code",
   "execution_count": 106,
   "id": "3aec679c",
   "metadata": {},
   "outputs": [],
   "source": [
    "le = LabelEncoder()\n",
    "X['SEX'] = le.fit_transform(X['SEX'])\n",
    "X['EDUCATION'] = le.fit_transform(X['EDUCATION'])\n",
    "X['MARRIAGE']=le.fit_transform(X['MARRIAGE'])"
   ]
  },
  {
   "cell_type": "code",
   "execution_count": 107,
   "id": "1040985e",
   "metadata": {},
   "outputs": [],
   "source": [
    "X_train,X_test,y_train,y_test=train_test_split(X,y,test_size=0.2,random_state=42)"
   ]
  },
  {
   "cell_type": "markdown",
   "id": "9c9789f9",
   "metadata": {},
   "source": [
    "### Feature Scaling"
   ]
  },
  {
   "cell_type": "code",
   "execution_count": 108,
   "id": "b636624b",
   "metadata": {},
   "outputs": [],
   "source": [
    "sc=StandardScaler()\n",
    "X_train[['LIMIT_BAL', 'AGE', 'PAY_1', 'PAY_2',\n",
    "       'PAY_3', 'PAY_4', 'PAY_5', 'PAY_6', 'BILL_AMT1', 'PAY_AMT1',\n",
    "       'PAY_AMT2', 'PAY_AMT3', 'PAY_AMT4', 'PAY_AMT5', 'PAY_AMT6']] = sc.fit_transform(X_train[['LIMIT_BAL', 'AGE', 'PAY_1', 'PAY_2',\n",
    "       'PAY_3', 'PAY_4', 'PAY_5', 'PAY_6', 'BILL_AMT1','PAY_AMT1',\n",
    "       'PAY_AMT2', 'PAY_AMT3', 'PAY_AMT4', 'PAY_AMT5', 'PAY_AMT6']])"
   ]
  },
  {
   "cell_type": "code",
   "execution_count": 109,
   "id": "24f305c3",
   "metadata": {},
   "outputs": [],
   "source": [
    "X_test[['LIMIT_BAL', 'AGE', 'PAY_1', 'PAY_2',\n",
    "       'PAY_3', 'PAY_4', 'PAY_5', 'PAY_6', 'BILL_AMT1', 'PAY_AMT1',\n",
    "       'PAY_AMT2', 'PAY_AMT3', 'PAY_AMT4', 'PAY_AMT5', 'PAY_AMT6']] = sc.transform(X_test[['LIMIT_BAL', 'AGE', 'PAY_1', 'PAY_2',\n",
    "       'PAY_3', 'PAY_4', 'PAY_5', 'PAY_6', 'BILL_AMT1', 'PAY_AMT1',\n",
    "       'PAY_AMT2', 'PAY_AMT3', 'PAY_AMT4', 'PAY_AMT5', 'PAY_AMT6']])"
   ]
  },
  {
   "cell_type": "code",
   "execution_count": 110,
   "id": "787e3595",
   "metadata": {},
   "outputs": [
    {
     "data": {
      "text/html": [
       "<div>\n",
       "<style scoped>\n",
       "    .dataframe tbody tr th:only-of-type {\n",
       "        vertical-align: middle;\n",
       "    }\n",
       "\n",
       "    .dataframe tbody tr th {\n",
       "        vertical-align: top;\n",
       "    }\n",
       "\n",
       "    .dataframe thead th {\n",
       "        text-align: right;\n",
       "    }\n",
       "</style>\n",
       "<table border=\"1\" class=\"dataframe\">\n",
       "  <thead>\n",
       "    <tr style=\"text-align: right;\">\n",
       "      <th></th>\n",
       "      <th>LIMIT_BAL</th>\n",
       "      <th>SEX</th>\n",
       "      <th>EDUCATION</th>\n",
       "      <th>MARRIAGE</th>\n",
       "      <th>AGE</th>\n",
       "      <th>PAY_1</th>\n",
       "      <th>PAY_2</th>\n",
       "      <th>PAY_3</th>\n",
       "      <th>PAY_4</th>\n",
       "      <th>PAY_5</th>\n",
       "      <th>PAY_6</th>\n",
       "      <th>BILL_AMT1</th>\n",
       "      <th>PAY_AMT1</th>\n",
       "      <th>PAY_AMT2</th>\n",
       "      <th>PAY_AMT3</th>\n",
       "      <th>PAY_AMT4</th>\n",
       "      <th>PAY_AMT5</th>\n",
       "      <th>PAY_AMT6</th>\n",
       "    </tr>\n",
       "  </thead>\n",
       "  <tbody>\n",
       "    <tr>\n",
       "      <th>2308</th>\n",
       "      <td>-1.058400</td>\n",
       "      <td>1</td>\n",
       "      <td>3</td>\n",
       "      <td>2</td>\n",
       "      <td>-1.136374</td>\n",
       "      <td>-0.4682</td>\n",
       "      <td>-0.399773</td>\n",
       "      <td>-0.384148</td>\n",
       "      <td>-0.340674</td>\n",
       "      <td>-0.309049</td>\n",
       "      <td>-0.318521</td>\n",
       "      <td>-0.573077</td>\n",
       "      <td>-0.244136</td>\n",
       "      <td>-0.163118</td>\n",
       "      <td>-0.206019</td>\n",
       "      <td>-0.207358</td>\n",
       "      <td>-0.212487</td>\n",
       "      <td>-0.180973</td>\n",
       "    </tr>\n",
       "    <tr>\n",
       "      <th>22404</th>\n",
       "      <td>-0.132624</td>\n",
       "      <td>0</td>\n",
       "      <td>0</td>\n",
       "      <td>2</td>\n",
       "      <td>-1.028090</td>\n",
       "      <td>-0.4682</td>\n",
       "      <td>-0.399773</td>\n",
       "      <td>-0.384148</td>\n",
       "      <td>-0.340674</td>\n",
       "      <td>-0.309049</td>\n",
       "      <td>-0.318521</td>\n",
       "      <td>1.169065</td>\n",
       "      <td>-0.069353</td>\n",
       "      <td>-0.071081</td>\n",
       "      <td>-0.114967</td>\n",
       "      <td>-0.137009</td>\n",
       "      <td>-0.137642</td>\n",
       "      <td>-0.142653</td>\n",
       "    </tr>\n",
       "    <tr>\n",
       "      <th>23397</th>\n",
       "      <td>-0.749808</td>\n",
       "      <td>0</td>\n",
       "      <td>1</td>\n",
       "      <td>0</td>\n",
       "      <td>-0.378385</td>\n",
       "      <td>-0.4682</td>\n",
       "      <td>-0.399773</td>\n",
       "      <td>-0.384148</td>\n",
       "      <td>-0.340674</td>\n",
       "      <td>-0.309049</td>\n",
       "      <td>-0.318521</td>\n",
       "      <td>0.261508</td>\n",
       "      <td>-0.189640</td>\n",
       "      <td>-0.117326</td>\n",
       "      <td>-0.123792</td>\n",
       "      <td>-0.149828</td>\n",
       "      <td>-0.148462</td>\n",
       "      <td>-0.149240</td>\n",
       "    </tr>\n",
       "    <tr>\n",
       "      <th>25058</th>\n",
       "      <td>-0.286920</td>\n",
       "      <td>1</td>\n",
       "      <td>1</td>\n",
       "      <td>2</td>\n",
       "      <td>1.462444</td>\n",
       "      <td>-0.4682</td>\n",
       "      <td>-0.399773</td>\n",
       "      <td>-0.384148</td>\n",
       "      <td>-0.340674</td>\n",
       "      <td>-0.309049</td>\n",
       "      <td>-0.318521</td>\n",
       "      <td>-0.412122</td>\n",
       "      <td>-0.237697</td>\n",
       "      <td>-0.171025</td>\n",
       "      <td>0.096247</td>\n",
       "      <td>-0.297702</td>\n",
       "      <td>0.140351</td>\n",
       "      <td>-0.043043</td>\n",
       "    </tr>\n",
       "    <tr>\n",
       "      <th>2664</th>\n",
       "      <td>-0.904104</td>\n",
       "      <td>0</td>\n",
       "      <td>3</td>\n",
       "      <td>2</td>\n",
       "      <td>0.054751</td>\n",
       "      <td>-0.4682</td>\n",
       "      <td>-0.399773</td>\n",
       "      <td>-0.384148</td>\n",
       "      <td>-0.340674</td>\n",
       "      <td>-0.309049</td>\n",
       "      <td>2.466365</td>\n",
       "      <td>0.589931</td>\n",
       "      <td>-0.214869</td>\n",
       "      <td>-0.183708</td>\n",
       "      <td>-0.233428</td>\n",
       "      <td>-0.188958</td>\n",
       "      <td>-0.308523</td>\n",
       "      <td>-0.238252</td>\n",
       "    </tr>\n",
       "  </tbody>\n",
       "</table>\n",
       "</div>"
      ],
      "text/plain": [
       "       LIMIT_BAL  SEX  EDUCATION  MARRIAGE       AGE   PAY_1     PAY_2  \\\n",
       "2308   -1.058400    1          3         2 -1.136374 -0.4682 -0.399773   \n",
       "22404  -0.132624    0          0         2 -1.028090 -0.4682 -0.399773   \n",
       "23397  -0.749808    0          1         0 -0.378385 -0.4682 -0.399773   \n",
       "25058  -0.286920    1          1         2  1.462444 -0.4682 -0.399773   \n",
       "2664   -0.904104    0          3         2  0.054751 -0.4682 -0.399773   \n",
       "\n",
       "          PAY_3     PAY_4     PAY_5     PAY_6  BILL_AMT1  PAY_AMT1  PAY_AMT2  \\\n",
       "2308  -0.384148 -0.340674 -0.309049 -0.318521  -0.573077 -0.244136 -0.163118   \n",
       "22404 -0.384148 -0.340674 -0.309049 -0.318521   1.169065 -0.069353 -0.071081   \n",
       "23397 -0.384148 -0.340674 -0.309049 -0.318521   0.261508 -0.189640 -0.117326   \n",
       "25058 -0.384148 -0.340674 -0.309049 -0.318521  -0.412122 -0.237697 -0.171025   \n",
       "2664  -0.384148 -0.340674 -0.309049  2.466365   0.589931 -0.214869 -0.183708   \n",
       "\n",
       "       PAY_AMT3  PAY_AMT4  PAY_AMT5  PAY_AMT6  \n",
       "2308  -0.206019 -0.207358 -0.212487 -0.180973  \n",
       "22404 -0.114967 -0.137009 -0.137642 -0.142653  \n",
       "23397 -0.123792 -0.149828 -0.148462 -0.149240  \n",
       "25058  0.096247 -0.297702  0.140351 -0.043043  \n",
       "2664  -0.233428 -0.188958 -0.308523 -0.238252  "
      ]
     },
     "execution_count": 110,
     "metadata": {},
     "output_type": "execute_result"
    }
   ],
   "source": [
    "X_test.head()"
   ]
  },
  {
   "cell_type": "markdown",
   "id": "c64a8620",
   "metadata": {},
   "source": [
    "### Balancing the datset using sampling techniques"
   ]
  },
  {
   "cell_type": "code",
   "execution_count": 112,
   "id": "fcc58a75",
   "metadata": {},
   "outputs": [
    {
     "name": "stdout",
     "output_type": "stream",
     "text": [
      "Counter({0: 10646, 1: 5323})\n"
     ]
    }
   ],
   "source": [
    "from imblearn.over_sampling import RandomOverSampler\n",
    "from imblearn.under_sampling import RandomUnderSampler\n",
    "from collections import Counter\n",
    "ros = RandomOverSampler(sampling_strategy=0.5)\n",
    "# resampling X, y\n",
    "X_train1, y_train1 = ros.fit_resample(X_train, y_train)\n",
    "\n",
    "rus = RandomUnderSampler(sampling_strategy=0.5) \n",
    "# resampling X, y                                                                                                                                              \n",
    "X_train1, y_train1 = rus.fit_resample(X_train, y_train)\n",
    "print(Counter(y_train1))"
   ]
  },
  {
   "cell_type": "code",
   "execution_count": 113,
   "id": "bc0e1879",
   "metadata": {},
   "outputs": [
    {
     "name": "stdout",
     "output_type": "stream",
     "text": [
      "Counter({0: 18677, 1: 9338})\n"
     ]
    }
   ],
   "source": [
    "smote = SMOTE(sampling_strategy=0.5)\n",
    "X_train1,y_train1 = smote.fit_resample(X_train,y_train)\n",
    "print(Counter(y_train1))"
   ]
  },
  {
   "cell_type": "markdown",
   "id": "e04f9b33",
   "metadata": {},
   "source": [
    "* Tried with balancing the dataset with both oversampling and undersampling techniques, but SMOTE technique gives better performance."
   ]
  },
  {
   "cell_type": "markdown",
   "id": "d075fe45",
   "metadata": {},
   "source": [
    "### Hyperparameter Tuning with Grid SearchCV for multiple Algorithms"
   ]
  },
  {
   "cell_type": "raw",
   "id": "a6350e95",
   "metadata": {},
   "source": [
    "rfc = RandomForestClassifier()\n",
    "\n",
    "forest_params = [{'n_estimators': [10,50,100],'max_depth': [3,5]}]\n",
    "\n",
    "clf = GridSearchCV(rfc, forest_params, cv = 5,scoring='precision')\n",
    "\n",
    "clf.fit(X_train1, y_train1)\n",
    "\n",
    "print(clf.best_params_)\n",
    "\n",
    "print(clf.best_score_)"
   ]
  },
  {
   "cell_type": "raw",
   "id": "b23a2beb",
   "metadata": {},
   "source": [
    "xgb = XGBClassifier()\n",
    "\n",
    "xgb_params = [{'n_estimators': [100, 500, 1000],'max_depth': [3,5]}]\n",
    "\n",
    "clf = GridSearchCV(xgb, xgb_params, cv = 5,scoring='precision')\n",
    "\n",
    "clf.fit(X_train1, y_train1)\n",
    "\n",
    "print(clf.best_params_)\n",
    "\n",
    "print(clf.best_score_)"
   ]
  },
  {
   "cell_type": "code",
   "execution_count": 114,
   "id": "a2a5be3b",
   "metadata": {},
   "outputs": [],
   "source": [
    "xgc = XGBClassifier(n_estimators=500,max_depth=3,n_jobs=-1, use_label_encoder =False)\n",
    "xgc.fit(X_train1,y_train1)\n",
    "predict = xgc.predict(X_test)"
   ]
  },
  {
   "cell_type": "code",
   "execution_count": 115,
   "id": "f634a1a9",
   "metadata": {},
   "outputs": [
    {
     "name": "stdout",
     "output_type": "stream",
     "text": [
      "Accuracy -->  0.8156666666666667\n",
      "F1 Score -->  0.467757459095284\n",
      "Classification Report  --> \n",
      "               precision    recall  f1-score   support\n",
      "\n",
      "           0       0.84      0.94      0.89      4687\n",
      "           1       0.64      0.37      0.47      1313\n",
      "\n",
      "    accuracy                           0.82      6000\n",
      "   macro avg       0.74      0.66      0.68      6000\n",
      "weighted avg       0.80      0.82      0.80      6000\n",
      "\n",
      "col_0                  0    1\n",
      "Default_Prediction           \n",
      "0                   4408  279\n",
      "1                    827  486\n",
      "ROC-AUC Score: 0.6553091786505463\n"
     ]
    }
   ],
   "source": [
    "print('Accuracy --> ',accuracy_score(y_test,predict))\n",
    "print('F1 Score --> ',f1_score(y_test,predict))\n",
    "print('Classification Report  --> \\n',classification_report(y_test,predict))\n",
    "print(pd.crosstab(y_test,predict))\n",
    "\n",
    "#ROC-AUC score\n",
    "auc_score = roc_auc_score(y_test, predict)\n",
    "print('ROC-AUC Score:',auc_score)"
   ]
  },
  {
   "cell_type": "code",
   "execution_count": 116,
   "id": "521a7e66",
   "metadata": {},
   "outputs": [],
   "source": [
    "rforest=RandomForestClassifier(n_estimators=10, max_depth=3, criterion='entropy',random_state=0)\n",
    "rforest.fit(X_train1,y_train1)\n",
    "predict=rforest.predict(X_test)"
   ]
  },
  {
   "cell_type": "code",
   "execution_count": 117,
   "id": "ba45293a",
   "metadata": {},
   "outputs": [
    {
     "name": "stdout",
     "output_type": "stream",
     "text": [
      "Accuracy -->  0.8128333333333333\n",
      "F1 Score -->  0.46139088729016786\n",
      "Classification Report  --> \n",
      "               precision    recall  f1-score   support\n",
      "\n",
      "           0       0.84      0.94      0.89      4687\n",
      "           1       0.62      0.37      0.46      1313\n",
      "\n",
      "    accuracy                           0.81      6000\n",
      "   macro avg       0.73      0.65      0.67      6000\n",
      "weighted avg       0.79      0.81      0.79      6000\n",
      "\n",
      "col_0                  0    1\n",
      "Default_Prediction           \n",
      "0                   4396  291\n",
      "1                    832  481\n",
      "ROC-AUC Score: 0.6521250055451459\n"
     ]
    }
   ],
   "source": [
    "print('Accuracy --> ',accuracy_score(y_test,predict))\n",
    "print('F1 Score --> ',f1_score(y_test,predict))\n",
    "print('Classification Report  --> \\n',classification_report(y_test,predict))\n",
    "print(pd.crosstab(y_test,predict))\n",
    "\n",
    "#ROC-AUC score\n",
    "auc_score = roc_auc_score(y_test, predict)\n",
    "print('ROC-AUC Score:',auc_score)"
   ]
  },
  {
   "cell_type": "code",
   "execution_count": 118,
   "id": "802d3e69",
   "metadata": {},
   "outputs": [],
   "source": [
    "gboost=GradientBoostingClassifier()\n",
    "gboost.fit(X_train1,y_train1)\n",
    "predict=gboost.predict(X_test)"
   ]
  },
  {
   "cell_type": "code",
   "execution_count": 119,
   "id": "bd1077ac",
   "metadata": {},
   "outputs": [
    {
     "name": "stdout",
     "output_type": "stream",
     "text": [
      "Accuracy -->  0.8158333333333333\n",
      "F1 Score -->  0.48628544862854484\n",
      "Classification Report  --> \n",
      "               precision    recall  f1-score   support\n",
      "\n",
      "           0       0.85      0.93      0.89      4687\n",
      "           1       0.62      0.40      0.49      1313\n",
      "\n",
      "    accuracy                           0.82      6000\n",
      "   macro avg       0.74      0.67      0.69      6000\n",
      "weighted avg       0.80      0.82      0.80      6000\n",
      "\n",
      "col_0                  0    1\n",
      "Default_Prediction           \n",
      "0                   4372  315\n",
      "1                    790  523\n",
      "ROC-AUC Score: 0.6655586395323649\n"
     ]
    }
   ],
   "source": [
    "print('Accuracy --> ',accuracy_score(y_test,predict))\n",
    "print('F1 Score --> ',f1_score(y_test,predict))\n",
    "print('Classification Report  --> \\n',classification_report(y_test,predict))\n",
    "print(pd.crosstab(y_test,predict))\n",
    "\n",
    "#ROC-AUC score\n",
    "auc_score = roc_auc_score(y_test, predict)\n",
    "print('ROC-AUC Score:',auc_score)"
   ]
  },
  {
   "cell_type": "markdown",
   "id": "16b80704",
   "metadata": {},
   "source": [
    "### Training other Classification models for performance evaluation"
   ]
  },
  {
   "cell_type": "code",
   "execution_count": 120,
   "id": "ba443ad8",
   "metadata": {},
   "outputs": [],
   "source": [
    "#Logistic Regression\n",
    "classifier=LogisticRegression(random_state=0)\n",
    "classifier.fit(X_train1,y_train1)\n",
    "predict1 = classifier.predict_proba(X_test)\n",
    "\n",
    "#KNN\n",
    "knn=KNeighborsClassifier(n_neighbors=5,metric='minkowski',p=2)\n",
    "knn.fit(X_train1,y_train1)\n",
    "predict2=knn.predict_proba(X_test)"
   ]
  },
  {
   "cell_type": "code",
   "execution_count": 124,
   "id": "5684e51a",
   "metadata": {},
   "outputs": [],
   "source": [
    "#Naive bayes\n",
    "naiveb=GaussianNB()\n",
    "naiveb.fit(X_train1,y_train1)\n",
    "predict4=naiveb.predict_proba(X_test)\n",
    "\n",
    "#Decision tree classifier\n",
    "dtree=DecisionTreeClassifier(criterion='entropy',random_state=0)\n",
    "dtree.fit(X_train1,y_train1)\n",
    "predict5=dtree.predict_proba(X_test)"
   ]
  },
  {
   "cell_type": "code",
   "execution_count": 126,
   "id": "8ef00e23",
   "metadata": {},
   "outputs": [],
   "source": [
    "#Logistic Regression\n",
    "classifier=LogisticRegression(random_state=0)\n",
    "classifier.fit(X_train1,y_train1)\n",
    "predict1 = classifier.predict_proba(X_test)\n",
    "\n",
    "#KNN\n",
    "knn=KNeighborsClassifier(n_neighbors=5,metric='minkowski',p=2)\n",
    "knn.fit(X_train1,y_train1)\n",
    "predict2=knn.predict_proba(X_test)\n",
    "\n",
    "#SVM\n",
    "#svm=SVC(kernel='rbf',random_state=0,probability=True)\n",
    "#svm.fit(X_train1,y_train1)\n",
    "#predict3=svm.predict_proba(X_test)\n",
    "\n",
    "#Naive bayes\n",
    "naiveb=GaussianNB()\n",
    "naiveb.fit(X_train1,y_train1)\n",
    "predict4=naiveb.predict_proba(X_test)\n",
    "\n",
    "#Decision tree classifier\n",
    "dtree=DecisionTreeClassifier(criterion='entropy',random_state=0)\n",
    "dtree.fit(X_train1,y_train1)\n",
    "predict5=dtree.predict_proba(X_test)\n",
    "\n",
    "#Random forest\n",
    "predict6=rforest.predict_proba(X_test)\n",
    "\n",
    "#XGBoostClassifier\n",
    "predict7 = xgc.predict_proba(X_test)\n",
    "\n",
    "#Gradient Boosting Classifier\n",
    "predict8=gboost.predict_proba(X_test)"
   ]
  },
  {
   "cell_type": "code",
   "execution_count": 127,
   "id": "e2054d40",
   "metadata": {},
   "outputs": [],
   "source": [
    "#Loading parameters for building ROC curve\n",
    "from sklearn.metrics import roc_curve\n",
    "fpr1, tpr1, thresh1 = roc_curve(y_test, predict1[:,1], pos_label=1)\n",
    "fpr2, tpr2, thresh2 = roc_curve(y_test, predict2[:,1], pos_label=1)\n",
    "#fpr3, tpr3, thresh3 = roc_curve(y_test, predict3[:,1], pos_label=1)\n",
    "fpr4, tpr4, thresh4 = roc_curve(y_test, predict4[:,1], pos_label=1)\n",
    "fpr5, tpr5, thresh5 = roc_curve(y_test, predict5[:,1], pos_label=1)\n",
    "fpr6, tpr6, thresh6 = roc_curve(y_test, predict6[:,1], pos_label=1)\n",
    "fpr7, tpr7, thresh7 = roc_curve(y_test, predict7[:,1], pos_label=1)\n",
    "fpr8, tpr8, thresh8 = roc_curve(y_test, predict8[:,1], pos_label=1)\n",
    "\n",
    "# roc curve for tpr = fpr \n",
    "random_probs = [0 for i in range(len(y_test))]\n",
    "p_fpr, p_tpr, _ = roc_curve(y_test, random_probs, pos_label=1)"
   ]
  },
  {
   "cell_type": "code",
   "execution_count": 129,
   "id": "330a3e01",
   "metadata": {},
   "outputs": [
    {
     "data": {
      "image/png": "[encoded data removed]",
      "text/plain": [
       "<Figure size 576x396 with 1 Axes>"
      ]
     },
     "metadata": {},
     "output_type": "display_data"
    }
   ],
   "source": [
    "plt.style.use('seaborn')\n",
    "\n",
    "# plot roc curves\n",
    "plt.plot(fpr1, tpr1, linestyle='--',color='orange', label='Logistic Regression')\n",
    "plt.plot(fpr2, tpr2, linestyle='--',color='indigo', label='K-Nearest Neighbors')\n",
    "#plt.plot(fpr3, tpr3, linestyle='--',color='red', label='SVM')\n",
    "plt.plot(fpr4, tpr4, linestyle='--',color='yellow', label='Naive Bayes')\n",
    "plt.plot(fpr5, tpr5, linestyle='--',color='pink', label='Decision Tree classifier')\n",
    "plt.plot(fpr6, tpr6, linestyle='--',color='black', label='Random Forest Classifier')\n",
    "plt.plot(fpr7, tpr7, linestyle='--',color='brown', label='XGBoost Classifier')\n",
    "plt.plot(fpr8, tpr8, linestyle='--',color='green', label='GradientBoost classifier')\n",
    "\n",
    "plt.plot(p_fpr, p_tpr, linestyle='--', color='blue')\n",
    "# title\n",
    "plt.title('ROC curve')\n",
    "# x label\n",
    "plt.xlabel('False Positive Rate')\n",
    "# y label\n",
    "plt.ylabel('True Positive rate')\n",
    "\n",
    "plt.legend(loc=4)\n",
    "#plt.savefig('ROC',dpi=10)\n",
    "plt.show();"
   ]
  },
  {
   "cell_type": "code",
   "execution_count": null,
   "id": "16b23ac7",
   "metadata": {},
   "outputs": [],
   "source": []
  }
 ],
 "metadata": {
  "kernelspec": {
   "display_name": "Python 3 (ipykernel)",
   "language": "python",
   "name": "python3"
  },
  "language_info": {
   "codemirror_mode": {
    "name": "ipython",
    "version": 3
   },
   "file_extension": ".py",
   "mimetype": "text/x-python",
   "name": "python",
   "nbconvert_exporter": "python",
   "pygments_lexer": "ipython3",
   "version": "3.9.12"
  }
 },
 "nbformat": 4,
 "nbformat_minor": 5
}
